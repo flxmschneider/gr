{
 "cells": [
  {
   "cell_type": "code",
   "execution_count": 1,
   "metadata": {},
   "outputs": [],
   "source": [
    "import sys\n",
    "from gravipy.tensorial import * \n",
    "import sympy as sym\n",
    "import scipy\n",
    "from sympy import init_printing\n",
    "import inspect\n",
    "init_printing()\n",
    "import numpy as np\n",
    "import math\n",
    "import seaborn as sns\n",
    "#sns.set('talk')\n",
    "from scipy.integrate import solve_ivp\n",
    "\n",
    "import scipy.integrate\n",
    "import matplotlib.pyplot as plt\n",
    "%matplotlib inline"
   ]
  },
  {
   "cell_type": "code",
   "execution_count": 2,
   "metadata": {},
   "outputs": [],
   "source": [
    "# define some symbolic variables\n",
    "t, r, theta, phi, M = symbols('t, r, \\\\theta, \\phi, M')\n",
    "\n",
    "# create a coordinate four-vector object instantiating \n",
    "# the Coordinates class\n",
    "x = Coordinates('x', [t, r, theta, phi])\n",
    "\n",
    "# define a matrix of a metric tensor components\n",
    "Metric = diag((1-2*M/r), -1/(1-2*M/r), -r**2, -r**2*sin(theta)**2)\n",
    "#Metric = diag(A, -B, -r**2, -r**2*sin(theta)**2)\n",
    "\n",
    "# create a metric tensor object instantiating the MetricTensor class\n",
    "g = MetricTensor('g', x, Metric)"
   ]
  },
  {
   "cell_type": "code",
   "execution_count": 3,
   "metadata": {},
   "outputs": [
    {
     "data": {
      "text/latex": [
       "$\\displaystyle \\left[\\begin{matrix}\\frac{2 M \\frac{d}{d \\tau} r{\\left(\\tau \\right)} \\frac{d}{d \\tau} t{\\left(\\tau \\right)}}{r^{2}{\\left(\\tau \\right)}} + \\left(- \\frac{2 M}{r{\\left(\\tau \\right)}} + 1\\right) \\frac{d^{2}}{d \\tau^{2}} t{\\left(\\tau \\right)}\\\\- \\frac{M \\left(\\frac{d}{d \\tau} t{\\left(\\tau \\right)}\\right)^{2}}{r^{2}{\\left(\\tau \\right)}} + \\frac{M \\left(\\frac{d}{d \\tau} r{\\left(\\tau \\right)}\\right)^{2}}{\\left(- \\frac{2 M}{r{\\left(\\tau \\right)}} + 1\\right)^{2} r^{2}{\\left(\\tau \\right)}} + r{\\left(\\tau \\right)} \\sin^{2}{\\left(\\theta{\\left(\\tau \\right)} \\right)} \\left(\\frac{d}{d \\tau} \\phi{\\left(\\tau \\right)}\\right)^{2} + r{\\left(\\tau \\right)} \\left(\\frac{d}{d \\tau} \\theta{\\left(\\tau \\right)}\\right)^{2} - \\frac{\\frac{d^{2}}{d \\tau^{2}} r{\\left(\\tau \\right)}}{- \\frac{2 M}{r{\\left(\\tau \\right)}} + 1}\\\\r^{2}{\\left(\\tau \\right)} \\sin{\\left(\\theta{\\left(\\tau \\right)} \\right)} \\cos{\\left(\\theta{\\left(\\tau \\right)} \\right)} \\left(\\frac{d}{d \\tau} \\phi{\\left(\\tau \\right)}\\right)^{2} - r^{2}{\\left(\\tau \\right)} \\frac{d^{2}}{d \\tau^{2}} \\theta{\\left(\\tau \\right)} - 2 r{\\left(\\tau \\right)} \\frac{d}{d \\tau} \\theta{\\left(\\tau \\right)} \\frac{d}{d \\tau} r{\\left(\\tau \\right)}\\\\- r^{2}{\\left(\\tau \\right)} \\sin^{2}{\\left(\\theta{\\left(\\tau \\right)} \\right)} \\frac{d^{2}}{d \\tau^{2}} \\phi{\\left(\\tau \\right)} - 2 r^{2}{\\left(\\tau \\right)} \\sin{\\left(\\theta{\\left(\\tau \\right)} \\right)} \\cos{\\left(\\theta{\\left(\\tau \\right)} \\right)} \\frac{d}{d \\tau} \\phi{\\left(\\tau \\right)} \\frac{d}{d \\tau} \\theta{\\left(\\tau \\right)} - 2 r{\\left(\\tau \\right)} \\sin^{2}{\\left(\\theta{\\left(\\tau \\right)} \\right)} \\frac{d}{d \\tau} \\phi{\\left(\\tau \\right)} \\frac{d}{d \\tau} r{\\left(\\tau \\right)}\\end{matrix}\\right]$"
      ],
      "text/plain": [
       "⎡                                                                        d    \n",
       "⎢                                                                  2⋅M⋅─────(r\n",
       "⎢                                                                      d\\tau  \n",
       "⎢                                                                  ───────────\n",
       "⎢                                                                             \n",
       "⎢                                                                             \n",
       "⎢                                                                             \n",
       "⎢                                                                             \n",
       "⎢                                            2                        2       \n",
       "⎢                            ⎛  d           ⎞         ⎛  d           ⎞        \n",
       "⎢                          M⋅⎜─────(t(\\tau))⎟       M⋅⎜─────(r(\\tau))⎟        \n",
       "⎢                            ⎝d\\tau         ⎠         ⎝d\\tau         ⎠        \n",
       "⎢                        - ─────────────────── + ───────────────────────── + r\n",
       "⎢                                 2                             2             \n",
       "⎢                                r (\\tau)        ⎛    2⋅M      ⎞   2          \n",
       "⎢                                                ⎜- ─────── + 1⎟ ⋅r (\\tau)    \n",
       "⎢                                                ⎝  r(\\tau)    ⎠              \n",
       "⎢                                                                             \n",
       "⎢                                                                             \n",
       "⎢                            2                                           ⎛  d \n",
       "⎢                           r (\\tau)⋅sin(\\theta(\\tau))⋅cos(\\theta(\\tau))⋅⎜────\n",
       "⎢                                                                        ⎝d\\ta\n",
       "⎢                                                                             \n",
       "⎢                                                                             \n",
       "⎢                                 2                                           \n",
       "⎢   2          2                 d                     2                      \n",
       "⎢- r (\\tau)⋅sin (\\theta(\\tau))⋅──────(\\phi(\\tau)) - 2⋅r (\\tau)⋅sin(\\theta(\\tau\n",
       "⎢                                   2                                         \n",
       "⎣                              d\\tau                                          \n",
       "\n",
       "          d                                                                   \n",
       "(\\tau))⋅─────(t(\\tau))                      2                                 \n",
       "        d\\tau            ⎛    2⋅M      ⎞   d                                  \n",
       "────────────────────── + ⎜- ─────── + 1⎟⋅──────(t(\\tau))                      \n",
       "   2                     ⎝  r(\\tau)    ⎠      2                               \n",
       "  r (\\tau)                               d\\tau                                \n",
       "                                                                              \n",
       "                                                                              \n",
       "                                                                              \n",
       "                                                                              \n",
       "                                             2                                \n",
       "          2               ⎛  d              ⎞            ⎛  d                ⎞\n",
       "(\\tau)⋅sin (\\theta(\\tau))⋅⎜─────(\\phi(\\tau))⎟  + r(\\tau)⋅⎜─────(\\theta(\\tau))⎟\n",
       "                          ⎝d\\tau            ⎠            ⎝d\\tau              ⎠\n",
       "                                                                              \n",
       "                                                                              \n",
       "                                                                              \n",
       "                                                                              \n",
       "              2               2                                               \n",
       "             ⎞     2         d                                d               \n",
       "─(\\phi(\\tau))⎟  - r (\\tau)⋅──────(\\theta(\\tau)) - 2⋅r(\\tau)⋅─────(\\theta(\\tau)\n",
       "u            ⎠                  2                           d\\tau             \n",
       "                           d\\tau                                              \n",
       "                                                                              \n",
       "                                                                              \n",
       "                       d                 d                                2   \n",
       "))⋅cos(\\theta(\\tau))⋅─────(\\phi(\\tau))⋅─────(\\theta(\\tau)) - 2⋅r(\\tau)⋅sin (\\t\n",
       "                     d\\tau             d\\tau                                  \n",
       "                                                                              \n",
       "\n",
       "                                            ⎤\n",
       "                                            ⎥\n",
       "                                            ⎥\n",
       "                                            ⎥\n",
       "                                            ⎥\n",
       "                                            ⎥\n",
       "                                            ⎥\n",
       "       2                                    ⎥\n",
       "      d                                     ⎥\n",
       "    ──────(r(\\tau))                         ⎥\n",
       "2        2                                  ⎥\n",
       "    d\\tau                                   ⎥\n",
       "  - ───────────────                         ⎥\n",
       "         2⋅M                                ⎥\n",
       "     - ─────── + 1                          ⎥\n",
       "       r(\\tau)                              ⎥\n",
       "                                            ⎥\n",
       "                                            ⎥\n",
       "                                            ⎥\n",
       "    d                                       ⎥\n",
       ")⋅─────(r(\\tau))                            ⎥\n",
       "  d\\tau                                     ⎥\n",
       "                                            ⎥\n",
       "                                            ⎥\n",
       "                                            ⎥\n",
       "              d                 d           ⎥\n",
       "heta(\\tau))⋅─────(\\phi(\\tau))⋅─────(r(\\tau))⎥\n",
       "            d\\tau             d\\tau         ⎥\n",
       "                                            ⎦"
      ]
     },
     "execution_count": 3,
     "metadata": {},
     "output_type": "execute_result"
    }
   ],
   "source": [
    "tau = Symbol('\\\\tau')\n",
    "w = Geodesic('w', g, tau)\n",
    "w(All).transpose()"
   ]
  },
  {
   "cell_type": "markdown",
   "metadata": {},
   "source": [
    "Wir lassen nur ebene Bewegungen zu ($\\theta=\\frac{\\pi}{2}, \\frac{d \\theta}{d\\tau}=0, \\frac{d^2 \\theta}{d\\tau^2}=0$)."
   ]
  },
  {
   "cell_type": "code",
   "execution_count": 4,
   "metadata": {},
   "outputs": [
    {
     "data": {
      "text/latex": [
       "$\\displaystyle \\left[\\begin{matrix}\\frac{2 M \\frac{d}{d \\tau} r{\\left(\\tau \\right)} \\frac{d}{d \\tau} t{\\left(\\tau \\right)}}{r^{2}{\\left(\\tau \\right)}} + \\left(- \\frac{2 M}{r{\\left(\\tau \\right)}} + 1\\right) \\frac{d^{2}}{d \\tau^{2}} t{\\left(\\tau \\right)}\\\\- \\frac{M \\left(\\frac{d}{d \\tau} t{\\left(\\tau \\right)}\\right)^{2}}{r^{2}{\\left(\\tau \\right)}} + \\frac{M \\left(\\frac{d}{d \\tau} r{\\left(\\tau \\right)}\\right)^{2}}{\\left(- \\frac{2 M}{r{\\left(\\tau \\right)}} + 1\\right)^{2} r^{2}{\\left(\\tau \\right)}} + 1.0 r{\\left(\\tau \\right)} \\left(\\frac{d}{d \\tau} \\phi{\\left(\\tau \\right)}\\right)^{2} - \\frac{\\frac{d^{2}}{d \\tau^{2}} r{\\left(\\tau \\right)}}{- \\frac{2 M}{r{\\left(\\tau \\right)}} + 1}\\\\6.12323399573677 \\cdot 10^{-17} r^{2}{\\left(\\tau \\right)} \\left(\\frac{d}{d \\tau} \\phi{\\left(\\tau \\right)}\\right)^{2}\\\\- 1.0 r^{2}{\\left(\\tau \\right)} \\frac{d^{2}}{d \\tau^{2}} \\phi{\\left(\\tau \\right)} - 2.0 r{\\left(\\tau \\right)} \\frac{d}{d \\tau} \\phi{\\left(\\tau \\right)} \\frac{d}{d \\tau} r{\\left(\\tau \\right)}\\end{matrix}\\right]$"
      ],
      "text/plain": [
       "⎡                       d              d                                      \n",
       "⎢                 2⋅M⋅─────(r(\\tau))⋅─────(t(\\tau))                      2    \n",
       "⎢                     d\\tau          d\\tau            ⎛    2⋅M      ⎞   d     \n",
       "⎢                 ───────────────────────────────── + ⎜- ─────── + 1⎟⋅──────(t\n",
       "⎢                               2                     ⎝  r(\\tau)    ⎠      2  \n",
       "⎢                              r (\\tau)                               d\\tau   \n",
       "⎢                                                                             \n",
       "⎢                                                                             \n",
       "⎢                    2                        2                               \n",
       "⎢    ⎛  d           ⎞         ⎛  d           ⎞                                \n",
       "⎢  M⋅⎜─────(t(\\tau))⎟       M⋅⎜─────(r(\\tau))⎟                                \n",
       "⎢    ⎝d\\tau         ⎠         ⎝d\\tau         ⎠                   ⎛  d         \n",
       "⎢- ─────────────────── + ───────────────────────── + 1.0⋅r(\\tau)⋅⎜─────(\\phi(\\\n",
       "⎢         2                             2                        ⎝d\\tau       \n",
       "⎢        r (\\tau)        ⎛    2⋅M      ⎞   2                                  \n",
       "⎢                        ⎜- ─────── + 1⎟ ⋅r (\\tau)                            \n",
       "⎢                        ⎝  r(\\tau)    ⎠                                      \n",
       "⎢                                                                             \n",
       "⎢                                                                           2 \n",
       "⎢                                                2       ⎛  d              ⎞  \n",
       "⎢                          6.12323399573677e-17⋅r (\\tau)⋅⎜─────(\\phi(\\tau))⎟  \n",
       "⎢                                                        ⎝d\\tau            ⎠  \n",
       "⎢                                                                             \n",
       "⎢                             2                                               \n",
       "⎢                  2         d                                d               \n",
       "⎢           - 1.0⋅r (\\tau)⋅──────(\\phi(\\tau)) - 2.0⋅r(\\tau)⋅─────(\\phi(\\tau))⋅\n",
       "⎢                               2                           d\\tau             \n",
       "⎣                          d\\tau                                              \n",
       "\n",
       "                         ⎤\n",
       "                         ⎥\n",
       "                         ⎥\n",
       "(\\tau))                  ⎥\n",
       "                         ⎥\n",
       "                         ⎥\n",
       "                         ⎥\n",
       "             2           ⎥\n",
       "            d            ⎥\n",
       "          ──────(r(\\tau))⎥\n",
       "      2        2         ⎥\n",
       "     ⎞    d\\tau          ⎥\n",
       "tau))⎟  - ───────────────⎥\n",
       "     ⎠         2⋅M       ⎥\n",
       "           - ─────── + 1 ⎥\n",
       "             r(\\tau)     ⎥\n",
       "                         ⎥\n",
       "                         ⎥\n",
       "                         ⎥\n",
       "                         ⎥\n",
       "                         ⎥\n",
       "                         ⎥\n",
       "                         ⎥\n",
       "                         ⎥\n",
       "  d                      ⎥\n",
       "─────(r(\\tau))           ⎥\n",
       "d\\tau                    ⎥\n",
       "                         ⎦"
      ]
     },
     "execution_count": 4,
     "metadata": {},
     "output_type": "execute_result"
    }
   ],
   "source": [
    "DGL = w(All).subs([(x(-3).diff(tau,tau),0),\n",
    "                   (x(-3).diff(tau),0),\n",
    "                   (x(-3),math.pi/2)]).transpose()\n",
    "DGL"
   ]
  },
  {
   "cell_type": "markdown",
   "metadata": {},
   "source": [
    "# Radial in schwarzes Loch einfallender Probekörper"
   ]
  },
  {
   "cell_type": "markdown",
   "metadata": {},
   "source": [
    "Zusätzlich kann man sich auf den radial in das schwarze Loch einfallenden Probekörper beschränken ($\\frac{d \\phi}{d\\tau}=0, \\frac{d^2 \\phi}{d\\tau^2}=0$)."
   ]
  },
  {
   "cell_type": "code",
   "execution_count": 5,
   "metadata": {},
   "outputs": [
    {
     "data": {
      "image/png": "[encoded data removed]",
      "text/plain": [
       "<Figure size 1080x360 with 3 Axes>"
      ]
     },
     "metadata": {
      "needs_background": "light"
     },
     "output_type": "display_data"
    }
   ],
   "source": [
    "DGL1 = DGL.subs([(x(-4).diff(tau,tau),0),(x(-4).diff(tau),0)])\n",
    "DGL1a = sym.solve(DGL1[0], x(-1).diff(tau,tau))[0]\n",
    "DGL1b = sym.solve(DGL1[1], x(-2).diff(tau, tau))[0]\n",
    "\n",
    "y = symbols('y1, y2, y3, y4')\n",
    "sym_m = symbols('M')\n",
    "y1, y2, y3, y4 = y\n",
    "substitutes = [(x(-1).diff(tau), y3), # y3 = dt/dtau\n",
    "               (x(-2).diff(tau), y4), # y4 = dr/dtau\n",
    "               (x(-1), y1), # y1 = t\n",
    "               (x(-2), y2), # y2 = r\n",
    "               (sym_m, 1), # M = 1\n",
    "              ]\n",
    "\n",
    "DGL1a_umgeschrieben = DGL1a.subs(substitutes)\n",
    "DGL1b_umgeschrieben = DGL1b.subs(substitutes)\n",
    "\n",
    "DGL1a_neu = sym.lambdify([tau, y], DGL1a_umgeschrieben, modules=sym)\n",
    "DGL1b_neu = sym.lambdify([tau, y], DGL1b_umgeschrieben, modules=sym)\n",
    "DGLy3 = sym.lambdify([tau, y], y3, modules=sym)\n",
    "DGLy4 = sym.lambdify([tau, y], y4, modules=sym)\n",
    "\n",
    "def GeodaetenDGL(tau, y):\n",
    "    dy1 = DGLy3(tau, y)\n",
    "    dy2 = DGLy4(tau, y)\n",
    "    dy3 = DGL1a_neu(tau, y)\n",
    "    dy4 = DGL1b_neu(tau, y)\n",
    "    return np.array([dy1, dy2, dy3, dy4])\n",
    "\n",
    "r0 = 10\n",
    "constraint = np.array([0, r0, 1/np.sqrt(1-2/r0), 0], dtype=np.float64)\n",
    "t = np.linspace(0, 33.7007, 10000)\n",
    "\n",
    "solution = scipy.integrate.solve_ivp(GeodaetenDGL, (0,33.7007), \n",
    "                                     constraint, t_eval=t)\n",
    "newton = lambda t, r: -t/r**2\n",
    "solution_newton = scipy.integrate.solve_ivp(newton, (0,33.7007), \n",
    "                                            np.array([r0]), t_eval=t)\n",
    "\n",
    "fig, axes = plt.subplots(1,3, figsize=(15,5))\n",
    "ax1, ax2, ax3 = axes\n",
    "ax1.plot(solution['t'], solution['y'][0,:], '-', label='$t(\\\\tau)$')\n",
    "ax1.plot(solution_newton['t'], solution_newton['t'], '-', label='$t_N(\\\\tau)$')\n",
    "ax2.plot(solution['t'], solution['y'][1,:], '-', label='$r_E(\\\\tau)$')\n",
    "ax2.plot(solution_newton['t'], solution_newton['y'][0,:], '-', label='$r_N(\\\\tau)$')\n",
    "ax3.plot(solution['y'][0, :], solution['y'][1,:], '-', label='$r(t)$')\n",
    "ax3.plot(solution_newton['t'], solution_newton['y'][0,:], '-', label='$r_N(t)$')\n",
    "\n",
    "for ax in [ax1, ax2]:\n",
    "    ax.set_xlabel('$\\\\tau$')\n",
    "for ax in [ax2, ax3]:\n",
    "    ax.set_ylabel('$r$')\n",
    "ax1.set_ylabel('$t$')\n",
    "ax3.set_xlabel('$t$')\n",
    "\n",
    "for ax in axes:\n",
    "    ax.legend()\n",
    "plt.show()"
   ]
  },
  {
   "cell_type": "markdown",
   "metadata": {},
   "source": [
    "# Bewegung um schwarzes Loch in der Ebene"
   ]
  },
  {
   "cell_type": "code",
   "execution_count": 6,
   "metadata": {},
   "outputs": [
    {
     "data": {
      "text/latex": [
       "$\\displaystyle \\left[\\begin{matrix}\\frac{2 M \\frac{d}{d \\tau} r{\\left(\\tau \\right)} \\frac{d}{d \\tau} t{\\left(\\tau \\right)}}{r^{2}{\\left(\\tau \\right)}} + \\left(- \\frac{2 M}{r{\\left(\\tau \\right)}} + 1\\right) \\frac{d^{2}}{d \\tau^{2}} t{\\left(\\tau \\right)}\\\\- \\frac{M \\left(\\frac{d}{d \\tau} t{\\left(\\tau \\right)}\\right)^{2}}{r^{2}{\\left(\\tau \\right)}} + \\frac{M \\left(\\frac{d}{d \\tau} r{\\left(\\tau \\right)}\\right)^{2}}{\\left(- \\frac{2 M}{r{\\left(\\tau \\right)}} + 1\\right)^{2} r^{2}{\\left(\\tau \\right)}} + 1.0 r{\\left(\\tau \\right)} \\left(\\frac{d}{d \\tau} \\phi{\\left(\\tau \\right)}\\right)^{2} - \\frac{\\frac{d^{2}}{d \\tau^{2}} r{\\left(\\tau \\right)}}{- \\frac{2 M}{r{\\left(\\tau \\right)}} + 1}\\\\6.12323399573677 \\cdot 10^{-17} r^{2}{\\left(\\tau \\right)} \\left(\\frac{d}{d \\tau} \\phi{\\left(\\tau \\right)}\\right)^{2}\\\\- 1.0 r^{2}{\\left(\\tau \\right)} \\frac{d^{2}}{d \\tau^{2}} \\phi{\\left(\\tau \\right)} - 2.0 r{\\left(\\tau \\right)} \\frac{d}{d \\tau} \\phi{\\left(\\tau \\right)} \\frac{d}{d \\tau} r{\\left(\\tau \\right)}\\end{matrix}\\right]$"
      ],
      "text/plain": [
       "⎡                       d              d                                      \n",
       "⎢                 2⋅M⋅─────(r(\\tau))⋅─────(t(\\tau))                      2    \n",
       "⎢                     d\\tau          d\\tau            ⎛    2⋅M      ⎞   d     \n",
       "⎢                 ───────────────────────────────── + ⎜- ─────── + 1⎟⋅──────(t\n",
       "⎢                               2                     ⎝  r(\\tau)    ⎠      2  \n",
       "⎢                              r (\\tau)                               d\\tau   \n",
       "⎢                                                                             \n",
       "⎢                                                                             \n",
       "⎢                    2                        2                               \n",
       "⎢    ⎛  d           ⎞         ⎛  d           ⎞                                \n",
       "⎢  M⋅⎜─────(t(\\tau))⎟       M⋅⎜─────(r(\\tau))⎟                                \n",
       "⎢    ⎝d\\tau         ⎠         ⎝d\\tau         ⎠                   ⎛  d         \n",
       "⎢- ─────────────────── + ───────────────────────── + 1.0⋅r(\\tau)⋅⎜─────(\\phi(\\\n",
       "⎢         2                             2                        ⎝d\\tau       \n",
       "⎢        r (\\tau)        ⎛    2⋅M      ⎞   2                                  \n",
       "⎢                        ⎜- ─────── + 1⎟ ⋅r (\\tau)                            \n",
       "⎢                        ⎝  r(\\tau)    ⎠                                      \n",
       "⎢                                                                             \n",
       "⎢                                                                           2 \n",
       "⎢                                                2       ⎛  d              ⎞  \n",
       "⎢                          6.12323399573677e-17⋅r (\\tau)⋅⎜─────(\\phi(\\tau))⎟  \n",
       "⎢                                                        ⎝d\\tau            ⎠  \n",
       "⎢                                                                             \n",
       "⎢                             2                                               \n",
       "⎢                  2         d                                d               \n",
       "⎢           - 1.0⋅r (\\tau)⋅──────(\\phi(\\tau)) - 2.0⋅r(\\tau)⋅─────(\\phi(\\tau))⋅\n",
       "⎢                               2                           d\\tau             \n",
       "⎣                          d\\tau                                              \n",
       "\n",
       "                         ⎤\n",
       "                         ⎥\n",
       "                         ⎥\n",
       "(\\tau))                  ⎥\n",
       "                         ⎥\n",
       "                         ⎥\n",
       "                         ⎥\n",
       "             2           ⎥\n",
       "            d            ⎥\n",
       "          ──────(r(\\tau))⎥\n",
       "      2        2         ⎥\n",
       "     ⎞    d\\tau          ⎥\n",
       "tau))⎟  - ───────────────⎥\n",
       "     ⎠         2⋅M       ⎥\n",
       "           - ─────── + 1 ⎥\n",
       "             r(\\tau)     ⎥\n",
       "                         ⎥\n",
       "                         ⎥\n",
       "                         ⎥\n",
       "                         ⎥\n",
       "                         ⎥\n",
       "                         ⎥\n",
       "                         ⎥\n",
       "                         ⎥\n",
       "  d                      ⎥\n",
       "─────(r(\\tau))           ⎥\n",
       "d\\tau                    ⎥\n",
       "                         ⎦"
      ]
     },
     "execution_count": 6,
     "metadata": {},
     "output_type": "execute_result"
    }
   ],
   "source": [
    "DGL"
   ]
  },
  {
   "cell_type": "code",
   "execution_count": 7,
   "metadata": {},
   "outputs": [
    {
     "data": {
      "image/png": "[encoded data removed]",
      "text/latex": [
       "$\\displaystyle \\left( \\frac{2 M \\frac{d}{d \\tau} r{\\left(\\tau \\right)} \\frac{d}{d \\tau} t{\\left(\\tau \\right)}}{\\left(2 M - r{\\left(\\tau \\right)}\\right) r{\\left(\\tau \\right)}}, \\  \\frac{2.0 M^{2} \\left(\\frac{d}{d \\tau} t{\\left(\\tau \\right)}\\right)^{2}}{r^{3}{\\left(\\tau \\right)}} - \\frac{0.5 M^{2} \\left(\\frac{d}{d \\tau} r{\\left(\\tau \\right)}\\right)^{2}}{\\left(M - 0.5 r{\\left(\\tau \\right)}\\right)^{2} r{\\left(\\tau \\right)}} - \\frac{M \\left(\\frac{d}{d \\tau} t{\\left(\\tau \\right)}\\right)^{2}}{r^{2}{\\left(\\tau \\right)}} + \\frac{0.25 M \\left(\\frac{d}{d \\tau} r{\\left(\\tau \\right)}\\right)^{2}}{\\left(M - 0.5 r{\\left(\\tau \\right)}\\right)^{2}} + \\frac{2.0 \\left(- M + 0.5 r{\\left(\\tau \\right)}\\right)^{3} \\left(\\frac{d}{d \\tau} \\phi{\\left(\\tau \\right)}\\right)^{2}}{\\left(M - 0.5 r{\\left(\\tau \\right)}\\right)^{2}}, \\  - \\frac{2.0 \\frac{d}{d \\tau} \\phi{\\left(\\tau \\right)} \\frac{d}{d \\tau} r{\\left(\\tau \\right)}}{r{\\left(\\tau \\right)}}\\right)$"
      ],
      "text/plain": [
       "⎛                                                          2                  \n",
       "⎜      d              d                  2 ⎛  d           ⎞          2 ⎛  d   \n",
       "⎜2⋅M⋅─────(r(\\tau))⋅─────(t(\\tau))  2.0⋅M ⋅⎜─────(t(\\tau))⎟     0.5⋅M ⋅⎜─────(\n",
       "⎜    d\\tau          d\\tau                  ⎝d\\tau         ⎠            ⎝d\\tau \n",
       "⎜─────────────────────────────────, ──────────────────────── - ───────────────\n",
       "⎜     (2⋅M - r(\\tau))⋅r(\\tau)                3                                \n",
       "⎝                                           r (\\tau)           (M - 0.5⋅r(\\tau\n",
       "\n",
       "         2                      2                          2                  \n",
       "        ⎞       ⎛  d           ⎞           ⎛  d           ⎞                   \n",
       "r(\\tau))⎟     M⋅⎜─────(t(\\tau))⎟    0.25⋅M⋅⎜─────(r(\\tau))⎟    2.0⋅(-M + 0.5⋅r\n",
       "        ⎠       ⎝d\\tau         ⎠           ⎝d\\tau         ⎠                   \n",
       "─────────── - ─────────────────── + ──────────────────────── + ───────────────\n",
       "  2                  2                                  2                     \n",
       ")) ⋅r(\\tau)         r (\\tau)           (M - 0.5⋅r(\\tau))                    (M\n",
       "\n",
       "                            2                                        ⎞\n",
       "       3 ⎛  d              ⎞          d                 d            ⎟\n",
       "(\\tau)) ⋅⎜─────(\\phi(\\tau))⎟   -2.0⋅─────(\\phi(\\tau))⋅─────(r(\\tau)) ⎟\n",
       "         ⎝d\\tau            ⎠        d\\tau             d\\tau          ⎟\n",
       "─────────────────────────────, ──────────────────────────────────────⎟\n",
       "               2                              r(\\tau)                ⎟\n",
       " - 0.5⋅r(\\tau))                                                      ⎠"
      ]
     },
     "execution_count": 7,
     "metadata": {},
     "output_type": "execute_result"
    }
   ],
   "source": [
    "DGLa = sym.solve(DGL[0], x(-1).diff(tau,tau))[0]\n",
    "DGLb = sym.solve(DGL[1], x(-2).diff(tau, tau))[0]\n",
    "DGLd = sym.solve(DGL[3], x(-4).diff(tau, tau))[0]\n",
    "DGLa, DGLb, DGLd"
   ]
  },
  {
   "cell_type": "code",
   "execution_count": 8,
   "metadata": {},
   "outputs": [
    {
     "data": {
      "image/png": "[encoded data removed]",
      "text/latex": [
       "$\\displaystyle \\left( \\frac{2 y_{4} y_{5}}{y_{2} \\left(2 - y_{2}\\right)}, \\  \\frac{0.25 y_{5}^{2}}{\\left(1 - 0.5 y_{2}\\right)^{2}} + \\frac{2.0 y_{6}^{2} \\left(0.5 y_{2} - 1\\right)^{3}}{\\left(1 - 0.5 y_{2}\\right)^{2}} - \\frac{0.5 y_{5}^{2}}{y_{2} \\left(1 - 0.5 y_{2}\\right)^{2}} - \\frac{y_{4}^{2}}{y_{2}^{2}} + \\frac{2.0 y_{4}^{2}}{y_{2}^{3}}, \\  - \\frac{2.0 y_{5} y_{6}}{y_{2}}\\right)$"
      ],
      "text/plain": [
       "⎛                       2           2             3             2          2  \n",
       "⎜  2⋅y₄⋅y₅       0.25⋅y₅      2.0⋅y₆ ⋅(0.5⋅y₂ - 1)        0.5⋅y₅         y₄   \n",
       "⎜───────────, ───────────── + ───────────────────── - ──────────────── - ─── +\n",
       "⎜y₂⋅(2 - y₂)              2                   2                      2     2  \n",
       "⎝             (1 - 0.5⋅y₂)        (1 - 0.5⋅y₂)        y₂⋅(1 - 0.5⋅y₂)    y₂   \n",
       "\n",
       "       2             ⎞\n",
       " 2.0⋅y₄   -2.0⋅y₅⋅y₆ ⎟\n",
       " ───────, ───────────⎟\n",
       "     3         y₂    ⎟\n",
       "   y₂                ⎠"
      ]
     },
     "execution_count": 8,
     "metadata": {},
     "output_type": "execute_result"
    }
   ],
   "source": [
    "y = symbols('y1, y2, y3, y4, y5, y6')\n",
    "sym_m = symbols('M')\n",
    "y1, y2, y3, y4, y5, y6 = y\n",
    "substitutes = [\n",
    "               (x(-1).diff(tau), y4), # y4 = dt/dtau\n",
    "               (x(-2).diff(tau), y5), # y5 = dr/dtau\n",
    "               (x(-4).diff(tau), y6), # y6 = dφ/dtau\n",
    "               (x(-1), y1), # y1 = t\n",
    "               (x(-2), y2), # y2 = r\n",
    "               (x(-4), y3), # y3 = φ\n",
    "               (sym_m, 1), # M = 1\n",
    "              ]\n",
    "\n",
    "DGLa_umgeschrieben = DGLa.subs(substitutes)\n",
    "DGLb_umgeschrieben = DGLb.subs(substitutes)\n",
    "DGLd_umgeschrieben = DGLd.subs(substitutes)\n",
    "(DGLa_umgeschrieben, DGLb_umgeschrieben, DGLd_umgeschrieben)"
   ]
  },
  {
   "cell_type": "code",
   "execution_count": 9,
   "metadata": {},
   "outputs": [],
   "source": [
    "DGLa_neu = sym.lambdify([tau, y], DGLa_umgeschrieben, modules=sym)\n",
    "DGLb_neu = sym.lambdify([tau, y], DGLb_umgeschrieben, modules=sym)\n",
    "DGLd_neu = sym.lambdify([tau, y], DGLd_umgeschrieben, modules=sym)\n",
    "DGLy4 = sym.lambdify([tau, y], y4, modules=sym)\n",
    "DGLy5 = sym.lambdify([tau, y], y5, modules=sym)\n",
    "DGLy6 = sym.lambdify([tau, y], y6, modules=sym)\n",
    "\n",
    "def EbeneDGL(tau, y):\n",
    "    dy1 = DGLy4(tau, y)\n",
    "    dy2 = DGLy5(tau, y)\n",
    "    dy3 = DGLy6(tau, y)\n",
    "    dy4 = DGLa_neu(tau, y)\n",
    "    dy5 = DGLb_neu(tau, y)\n",
    "    dy6 = DGLd_neu(tau, y)\n",
    "    return np.array([dy1, dy2, dy3, dy4, dy5, dy6])"
   ]
  },
  {
   "cell_type": "code",
   "execution_count": 10,
   "metadata": {},
   "outputs": [
    {
     "data": {
      "text/plain": [
       "  message: 'The solver successfully reached the end of the integration interval.'\n",
       "     nfev: 86\n",
       "     njev: 0\n",
       "      nlu: 0\n",
       "      sol: None\n",
       "   status: 0\n",
       "  success: True\n",
       "        t: array([  0. ,   0.8,   1.6, ..., 798.4, 799.2, 800. ])\n",
       " t_events: None\n",
       "        y: array([[ 0.00000000e+00,  1.01281615e+00,  2.02551056e+00, ...,\n",
       "         8.36725397e+02,  8.37547823e+02,  8.38370281e+02],\n",
       "       [ 9.00000000e+00,  9.00189632e+00,  9.00758244e+00, ...,\n",
       "         4.77232510e+01,  4.76810823e+01,  4.76387415e+01],\n",
       "       [ 0.00000000e+00,  4.41419478e-02,  8.82467569e-02, ...,\n",
       "         4.38255954e+00,  4.38412000e+00,  4.38568313e+00],\n",
       "       [ 1.26604559e+00,  1.26596939e+00,  1.26574116e+00, ...,\n",
       "         1.02801175e+00,  1.02805153e+00,  1.02809154e+00],\n",
       "       [ 0.00000000e+00,  4.74022001e-03,  9.47337802e-03, ...,\n",
       "        -5.26014740e-02, -5.28173508e-02, -5.30334989e-02],\n",
       "       [ 5.51851852e-02,  5.51619372e-02,  5.50923131e-02, ...,\n",
       "         1.94866716e-03,  1.95211689e-03,  1.95558895e-03]])\n",
       " y_events: None"
      ]
     },
     "execution_count": 10,
     "metadata": {},
     "output_type": "execute_result"
    }
   ],
   "source": [
    "l0 = 4.47\n",
    "r0 = 9\n",
    "t0 = 0\n",
    "phi0 = 0\n",
    "dr0 = 0.0\n",
    "dphi0 = l0/r0**2\n",
    "dt0 = 1/np.sqrt(1-2/r0)*np.sqrt(1+r0**2*dphi0**2)\n",
    "\n",
    "constraint = np.array([t0, r0, phi0,\n",
    "                       dt0, dr0, dphi0])\n",
    "tend = 800\n",
    "t = np.linspace(0, tend, 1001)\n",
    "solution = scipy.integrate.solve_ivp(EbeneDGL, (0, tend), \n",
    "                                     constraint, t_eval=t)\n",
    "solution"
   ]
  },
  {
   "cell_type": "code",
   "execution_count": 11,
   "metadata": {},
   "outputs": [],
   "source": [
    "VeffRez = lambda r,M,l: np.sqrt(1-2*M/r)*np.sqrt(1+l**2/r**2)\n",
    "VeffFb = lambda r,M,l: -(M/r) + ((l**2)/(2*r**2)) - ((M*l**2)/(r**3))"
   ]
  },
  {
   "cell_type": "code",
   "execution_count": 12,
   "metadata": {},
   "outputs": [],
   "source": [
    "#r0 = 10\n",
    "#t0=0\n",
    "#phi0=0\n",
    "#theta0=np.pi/2\n",
    "#dr0=0\n",
    "#dphi0=0.041\n",
    "#dt0=(1/np.sqrt(1-2/r0)*np.sqrt(1+r0**2*dphi0**2))\n",
    "#dtheta0=0\n",
    "#l = r0**2*dphi0\n",
    "#r_span = np.linspace(4,35, 1000)\n",
    "#fig, (ax1, ax2) = plt.subplots(1, 2, figsize=(16,9))\n",
    "#ax1.plot(r_span, VeffRez(r_span, 1, l), 'b-')\n",
    "#ax1.set_title('$V_{eff}^{Rez} = \\\\sqrt{1-\\\\frac{2M}{r}}\\\\cdot \\\\sqrt{1+\\\\frac{l^2}{r^2}}$')\n",
    "#ax1.plot([r0], [VeffRez(r0, 1, l)], 'ro')\n",
    "#ax2.plot(r_span, VeffFb(r_span, 1, l), 'g-')\n",
    "#ax2.set_title('$V_{eff}^{Fb} = −\\\\frac{M\\\\cdot l^2}{r^3} ​ −\\\\frac{M}{r} ​+ \\\\frac{l^2}{2r^2}​$')\n",
    "#ax2.plot([r0], [VeffFb(r0, 1, l)], 'ro')"
   ]
  },
  {
   "cell_type": "code",
   "execution_count": 13,
   "metadata": {},
   "outputs": [
    {
     "data": {
      "application/vnd.jupyter.widget-view+json": {
       "model_id": "56832d985ddc4a84aa6fe4fde48296ae",
       "version_major": 2,
       "version_minor": 0
      },
      "text/plain": [
       "interactive(children=(Checkbox(value=True, description='potential1'), FloatSlider(value=10.0, description='r_0…"
      ]
     },
     "metadata": {},
     "output_type": "display_data"
    }
   ],
   "source": [
    "from ipywidgets import interact\n",
    "import ipywidgets as widgets\n",
    "\n",
    "@interact(potential1 = True,r_0=widgets.FloatSlider(min=0, max=20, step=0.5, value=10), M=widgets.FloatSlider(min=0, max=30, step=1, value=1), l_0=widgets.FloatSlider(min=0, max=5, step=0.001, value=0.041))\n",
    "def VeffRez(potential1,r_0,M,l_0):\n",
    "    Veff = lambda r,M,l: np.sqrt(1-2*M/r)*np.sqrt(1+l**2/r**2)\n",
    "    if not potential1:\n",
    "        Veff = lambda r,M,l: -(M/r) + ((l**2)/(2*r**2)) - ((M*l**2)/(r**3))\n",
    "    dphi0 = l_0/r0**2\n",
    "    #l = r0**2*dphi0\n",
    "    r_span = np.linspace(4,35, 1000)\n",
    "    #y = np.sqrt(1-2*M/r_span)*np.sqrt(1+l**2/r_span**2)\n",
    "    y = Veff(r_span,M,l_0)\n",
    "    plt.plot(r_span, y)\n",
    "    #x = np.sqrt(1-2*M/r0)*np.sqrt(1+l**2/r0**2)\n",
    "    x = Veff(r_0,M,l_0)\n",
    "    plt.title('$V_{eff}^{Rez} = \\\\sqrt{1-\\\\frac{2M}{r}}\\\\cdot \\\\sqrt{1+\\\\frac{l^2}{r^2}}$')\n",
    "    if not potential1:\n",
    "        plt.title('$V_{eff}^{Fb} = −\\\\frac{M\\\\cdot l^2}{r^3} ​ −\\\\frac{M}{r} ​+ \\\\frac{l^2}{2r^2}​$')\n",
    "    plt.plot(r_0, x, 'ro')\n",
    "    plt.xlabel(\"r\")\n",
    "    plt.ylabel('$V_{eff}$')\n",
    "    #return  r_0,l_0"
   ]
  },
  {
   "cell_type": "code",
   "execution_count": 24,
   "metadata": {},
   "outputs": [],
   "source": [
    "l0 = 4.47\n",
    "r0 = 9\n",
    "#l0 = 2*np.sqrt(3)\n",
    "#r0 = 6\n",
    "\n",
    "\n",
    "t0 = 0\n",
    "phi0 = 0\n",
    "dr0 = 0.0\n",
    "dphi0 = l0/r0**2\n",
    "dt0 = 1/np.sqrt(1-2/r0)*np.sqrt(1+r0**2*dphi0**2)\n",
    "\n",
    "constraint = np.array([t0, r0, phi0,\n",
    "                       dt0, dr0, dphi0])\n",
    "tend = 3000\n",
    "t = np.linspace(0, tend, 1001)\n",
    "solution = scipy.integrate.solve_ivp(EbeneDGL, (0, tend), \n",
    "                                     constraint, t_eval=t)"
   ]
  },
  {
   "cell_type": "code",
   "execution_count": 25,
   "metadata": {},
   "outputs": [],
   "source": [
    "r1 = solution['y'][1,:]\n",
    "phi1 = solution['y'][2,:]\n",
    "x = r1*np.cos(phi1)\n",
    "y = r1*np.sin(phi1)\n",
    "xx = r1*np.cos(phi1)\n",
    "yy = r1*np.sin(phi1)\n",
    "\n",
    "xm = np.min(x) - 1.5\n",
    "xM = np.max(x) + 1.5\n",
    "ym = np.min(y) - 1.5\n",
    "yM = np.max(y) + 1.5"
   ]
  },
  {
   "cell_type": "code",
   "execution_count": 26,
   "metadata": {},
   "outputs": [],
   "source": [
    "#import plotly.graph_objects as go\n",
    "from plotly.offline import init_notebook_mode, iplot\n",
    "#from plotly.graph_objs import *\n",
    "\n",
    "#init_notebook_mode(connected=True)  \n",
    "#import numpy as np\n",
    "#\n",
    "#r1 = solution['y'][1,:]\n",
    "#phi1 = solution['y'][2,:]\n",
    "#x = r1*np.cos(phi1)\n",
    "#y = r1*np.sin(phi1)\n",
    "#xx = r1*np.cos(phi1)\n",
    "#yy = r1*np.sin(phi1)\n",
    "#\n",
    "#xm = np.min(x) - 1.5\n",
    "#xM = np.max(x) + 1.5\n",
    "#ym = np.min(y) - 1.5\n",
    "#yM = np.max(y) + 1.5\n",
    "#N = 50\n",
    "#\n",
    "#from plotly.subplots import make_subplots\n",
    "##fig = make_subplots(rows=3, cols=1)\n",
    "#\n",
    "#fig = go.Figure(\n",
    "#    data=[go.Scatter(x=x, y=y,\n",
    "#                     mode=\"lines\",\n",
    "#                     line=dict(width=2, color=\"blue\")),\n",
    "#          #go.Scatter(x=x, y=y,\n",
    "#          #           mode=\"lines\",\n",
    "#          #           line=dict(width=2, color=\"blue\"))\n",
    "#         ],\n",
    "#    layout=go.Layout(\n",
    "#        xaxis=dict(range=[xm, xM], autorange=False, zeroline=False),\n",
    "#        yaxis=dict(range=[ym, yM], autorange=False, zeroline=False),\n",
    "#        title_text=\"Kinematic Generation of a Planar Curve\", hovermode=\"closest\",\n",
    "#        updatemenus=[dict(type=\"buttons\",\n",
    "#                          buttons=[dict(label=\"Play\",\n",
    "#                                        method=\"animate\",\n",
    "#                                        args=[None]),\n",
    "#                                   dict(label=\"Pause\",\n",
    "#                                        method=\"animate\",\n",
    "#                                        args=[None])])]),\n",
    "#    frames=[go.Frame(\n",
    "#        data=[go.Scatter(\n",
    "#            x=[xx[k]],\n",
    "#            y=[yy[k]],\n",
    "#            mode=\"markers\",\n",
    "#            marker=dict(color=\"red\", size=10))])\n",
    "#\n",
    "#        for k in range(N)]\n",
    "#)\n",
    "#\n",
    "#fig.show()"
   ]
  },
  {
   "cell_type": "code",
   "execution_count": null,
   "metadata": {},
   "outputs": [],
   "source": [
    "import matplotlib.animation\n",
    "import matplotlib.pyplot as plt\n",
    "import numpy as np\n",
    "sns.set(style=\"ticks\", context=\"talk\")\n",
    "sns.set_style(\"darkgrid\")\n",
    "plt.ioff()\n",
    "plt.rcParams[\"animation.html\"] = \"jshtml\"\n",
    "\n",
    "\n",
    "\n",
    "fig, (ax1,ax2) = plt.subplots(1,2, figsize=(16,8))\n",
    "ax1.set_xlim(-50,50)\n",
    "ax1.set_ylim(-50,50)\n",
    "ax1.set_title('Bahnbewegung um ein schwarzes Loch')\n",
    "ax1.set_ylabel('y')\n",
    "ax1.set_xlabel('x')\n",
    "\n",
    "data_x = xx[::1]\n",
    "data_y = yy[::1]\n",
    "\n",
    "\n",
    "Veff = lambda r,M,l: np.sqrt(1-2*M/r)*np.sqrt(1+l**2/r**2)\n",
    "M = 1\n",
    "dphi0 = l0/r0**2\n",
    "r_span = np.linspace(4,50, 1000)\n",
    "y = Veff(r_span,M,l0)\n",
    "ax2.set_xlim(4,50)\n",
    "ax1.plot(0,0,'o', color='black',markersize=10,)\n",
    "\n",
    "def animate(t):\n",
    "    #plt.cla()\n",
    "    ax1.plot(data_x[t],data_y[t],'bo')\n",
    "    \n",
    "    r_ = np.sqrt(data_x[t]**2+data_y[t]**2)\n",
    "    ax2.cla()\n",
    "    ax2.plot(r_span, y,'b')\n",
    "    ax2.plot(r_, Veff(r_,M,l0),'ro')\n",
    "    ax2.set_title('effektives Potential $V_{eff}(r)$')\n",
    "    ax2.set_xlabel('r')\n",
    "    ax2.set_ylabel('$V_{eff}$')\n",
    "    if t>0:\n",
    "        ax1.plot([data_x[t], data_x[t-1]], [data_y[t], data_y[t-1]],'b--')\n",
    "    \n",
    "matplotlib.animation.FuncAnimation(fig, animate, frames=50)"
   ]
  },
  {
   "cell_type": "code",
   "execution_count": null,
   "metadata": {},
   "outputs": [],
   "source": []
  }
 ],
 "metadata": {
  "kernelspec": {
   "display_name": "Python 3",
   "language": "python",
   "name": "python3"
  },
  "language_info": {
   "codemirror_mode": {
    "name": "ipython",
    "version": 3
   },
   "file_extension": ".py",
   "mimetype": "text/x-python",
   "name": "python",
   "nbconvert_exporter": "python",
   "pygments_lexer": "ipython3",
   "version": "3.7.6"
  }
 },
 "nbformat": 4,
 "nbformat_minor": 4
}
