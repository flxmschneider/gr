{
 "cells": [
  {
   "cell_type": "code",
   "execution_count": 2,
   "metadata": {
    "jupyter": {
     "outputs_hidden": false
    }
   },
   "outputs": [],
   "source": [
    "from gravipy.tensorial import * \n",
    "from sympy import init_printing\n",
    "import inspect\n",
    "init_printing()"
   ]
  },
  {
   "cell_type": "markdown",
   "metadata": {},
   "source": [
    "Definition of coordinates and a covariant space-time metric in general, static isotropic metic:\n",
    "\n",
    "$$x^\\mu=(t,r,\\theta,\\phi)\\quad, \\qquad g_{\\mu\\nu}=\\left( \\begin{array}{ccc} A(r) & 0 & 0 & 0\\\\ 0&  -B(r)&  0&0 \\\\ 0&  0&  -r^2& 0\\\\ 0&  0&  0& -r^2 \\hbox{sin}^2(\\theta)\\\\ \\end{array} \\right)$$\n",
    "\n",
    "Schwarzschildmetrik:\n",
    "$$ g_{\\mu\\nu}=\\left( \\begin{array}{ccc} 1-\\frac{2\\,M}{r} & 0 & 0 & 0\\\\ 0&  -\\frac{1}{1-\\frac{2\\,M}{r}}&  0&0 \\\\ 0&  0&  -r^2& 0\\\\ 0&  0&  0& -r^2 \\hbox{sin}^2(\\theta)\\\\ \\end{array} \\right)$$\n"
   ]
  },
  {
   "cell_type": "code",
   "execution_count": 3,
   "metadata": {
    "jupyter": {
     "outputs_hidden": false
    }
   },
   "outputs": [],
   "source": [
    "# define some symbolic variables\n",
    "t, r, theta, phi, M = symbols('t, r, \\\\theta, \\phi, M')\n",
    "A = Function('A')(r)\n",
    "B = Function('B')(r)\n",
    "# create a coordinate four-vector object instantiating \n",
    "# the Coordinates class\n",
    "x = Coordinates('x', [t, r, theta, phi])\n",
    "# define a matrix of a metric tensor components\n",
    "#Metric = diag((1-2*M/r), -1/(1-2*M/r), -r**2, -r**2*sin(theta)**2)\n",
    "Metric = diag(A, -B, -r**2, -r**2*sin(theta)**2)\n",
    "# create a metric tensor object instantiating the MetricTensor class\n",
    "g = MetricTensor('g', x, Metric)"
   ]
  },
  {
   "cell_type": "code",
   "execution_count": 4,
   "metadata": {},
   "outputs": [
    {
     "output_type": "execute_result",
     "data": {
      "text/plain": "⎡A(r)    0     0          0        ⎤\n⎢                                  ⎥\n⎢ 0    -B(r)   0          0        ⎥\n⎢                                  ⎥\n⎢               2                  ⎥\n⎢ 0      0    -r          0        ⎥\n⎢                                  ⎥\n⎢                    2    2        ⎥\n⎣ 0      0     0   -r ⋅sin (\\theta)⎦",
      "text/latex": "$\\displaystyle \\left[\\begin{matrix}A{\\left(r \\right)} & 0 & 0 & 0\\\\0 & - B{\\left(r \\right)} & 0 & 0\\\\0 & 0 & - r^{2} & 0\\\\0 & 0 & 0 & - r^{2} \\sin^{2}{\\left(\\theta \\right)}\\end{matrix}\\right]$"
     },
     "metadata": {},
     "execution_count": 4
    }
   ],
   "source": [
    "g(All, All)"
   ]
  },
  {
   "cell_type": "code",
   "execution_count": 5,
   "metadata": {},
   "outputs": [
    {
     "output_type": "execute_result",
     "data": {
      "text/plain": "⎡ 1                              ⎤\n⎢────   0     0          0       ⎥\n⎢A(r)                            ⎥\n⎢                                ⎥\n⎢      -1                        ⎥\n⎢ 0    ────   0          0       ⎥\n⎢      B(r)                      ⎥\n⎢                                ⎥\n⎢            -1                  ⎥\n⎢ 0     0    ───         0       ⎥\n⎢              2                 ⎥\n⎢             r                  ⎥\n⎢                                ⎥\n⎢                       -1       ⎥\n⎢ 0     0     0   ───────────────⎥\n⎢                  2    2        ⎥\n⎣                 r ⋅sin (\\theta)⎦",
      "text/latex": "$\\displaystyle \\left[\\begin{matrix}\\frac{1}{A{\\left(r \\right)}} & 0 & 0 & 0\\\\0 & - \\frac{1}{B{\\left(r \\right)}} & 0 & 0\\\\0 & 0 & - \\frac{1}{r^{2}} & 0\\\\0 & 0 & 0 & - \\frac{1}{r^{2} \\sin^{2}{\\left(\\theta \\right)}}\\end{matrix}\\right]$"
     },
     "metadata": {},
     "execution_count": 5
    }
   ],
   "source": [
    "g(-All, -All)"
   ]
  },
  {
   "cell_type": "markdown",
   "metadata": {},
   "source": [
    "partial derivative: \n",
    "$$\\partial_\\mu = \\frac{\\partial}{\\partial x^\\mu}$$\n",
    "$$ g_{\\mu\\nu| \\alpha} := \\partial_\\alpha g_{\\mu\\nu} = \\frac{\\partial }{\\partial x^\\alpha}g_{\\mu\\nu} $$"
   ]
  },
  {
   "cell_type": "code",
   "execution_count": 6,
   "metadata": {},
   "outputs": [
    {
     "output_type": "execute_result",
     "data": {
      "text/plain": "0",
      "image/png": "[encoded data removed]",
      "text/latex": "$\\displaystyle 0$"
     },
     "metadata": {},
     "execution_count": 6
    }
   ],
   "source": [
    "g.partialD(1, 2, 2)"
   ]
  },
  {
   "cell_type": "code",
   "execution_count": 7,
   "metadata": {},
   "outputs": [
    {
     "output_type": "execute_result",
     "data": {
      "text/plain": "d       \n──(A(r))\ndr      ",
      "image/png": "[encoded data removed]",
      "text/latex": "$\\displaystyle \\frac{d}{d r} A{\\left(r \\right)}$"
     },
     "metadata": {},
     "execution_count": 7
    }
   ],
   "source": [
    "g(1,1).diff(x(-2))"
   ]
  },
  {
   "cell_type": "markdown",
   "metadata": {},
   "source": [
    "Die Chistoffel Symbole in (kontravarianter Form): \n",
    "$$ \\Gamma_{\\rho \\mu \\nu} = g_{\\rho \\sigma}\\Gamma^{\\sigma}_{\\ \\mu \\nu} = \\frac{1}{2}(g_{\\rho \\mu| \\nu} + g_{\\rho \\nu| \\mu} - g_{\\mu \\nu| \\rho})$$\n",
    "\n",
    "Hier speziell $$ \\Gamma_{2 2 2} = \\Gamma_{r r r}$$"
   ]
  },
  {
   "cell_type": "code",
   "execution_count": 8,
   "metadata": {},
   "outputs": [
    {
     "output_type": "execute_result",
     "data": {
      "text/plain": " d        \n-──(B(r)) \n dr       \n──────────\n    2     ",
      "image/png": "[encoded data removed]",
      "text/latex": "$\\displaystyle - \\frac{\\frac{d}{d r} B{\\left(r \\right)}}{2}$"
     },
     "metadata": {},
     "execution_count": 8
    }
   ],
   "source": [
    "Ga = Christoffel('Ga', g)\n",
    "Ga(2, 2, 2)"
   ]
  },
  {
   "cell_type": "markdown",
   "metadata": {},
   "source": [
    "Die kovariante Ableitung eines Tensors zweiter Stufe $T^\\mu{}\\!_\\nu$ ist wie folgt definiert:\n",
    "\n",
    "$$\n",
    "\\nabla\\!_\\alpha T^\\mu{}\\!_\\nu = \\partial_\\alpha T^\\mu{}\\!_\\nu + \\Gamma^\\mu_{\\alpha \\rho} T^\\rho{}\\!_\\nu  - \\Gamma^\\rho_{\\alpha \\nu} T^\\mu{}\\!_\\rho   \n",
    "$$"
   ]
  },
  {
   "cell_type": "code",
   "execution_count": 9,
   "metadata": {},
   "outputs": [
    {
     "output_type": "execute_result",
     "data": {
      "text/plain": "            ∂                                                                 \n2⋅A(r)⋅B(r)⋅──(T(1, 2)(t, r, \\theta, \\phi)) - A(r)⋅T(2, 2)(t, r, \\theta, \\phi)\n            ∂t                                                                \n──────────────────────────────────────────────────────────────────────────────\n                                                            2⋅A(r)⋅B(r)       \n\n d                                           d       \n⋅──(A(r)) - B(r)⋅T(1, 1)(t, r, \\theta, \\phi)⋅──(A(r))\n dr                                          dr      \n─────────────────────────────────────────────────────\n                                                     ",
      "image/png": "[encoded data removed]",
      "text/latex": "$\\displaystyle \\frac{2 A{\\left(r \\right)} B{\\left(r \\right)} \\frac{\\partial}{\\partial t} \\operatorname{T(1, 2)}{\\left(t,r,\\theta,\\phi \\right)} - A{\\left(r \\right)} \\operatorname{T(2, 2)}{\\left(t,r,\\theta,\\phi \\right)} \\frac{d}{d r} A{\\left(r \\right)} - B{\\left(r \\right)} \\operatorname{T(1, 1)}{\\left(t,r,\\theta,\\phi \\right)} \\frac{d}{d r} A{\\left(r \\right)}}{2 A{\\left(r \\right)} B{\\left(r \\right)}}$"
     },
     "metadata": {},
     "execution_count": 9
    }
   ],
   "source": [
    "T = Tensor('T', 2, g)\n",
    "T.covariantD(1,2,1) \n",
    "# Beachten Sie, dass die ersten zwei Zahlen die Indices des Tensors \n",
    "# und dritte Zahl die Koordinate angibt nach der differenziert wird"
   ]
  },
  {
   "cell_type": "markdown",
   "metadata": {},
   "source": [
    "Die kovariante Ableitung der Metric $g_{\\mu \\nu}$ ist identisch 0."
   ]
  },
  {
   "cell_type": "code",
   "execution_count": 10,
   "metadata": {},
   "outputs": [
    {
     "output_type": "execute_result",
     "data": {
      "text/plain": "0",
      "image/png": "[encoded data removed]",
      "text/latex": "$\\displaystyle 0$"
     },
     "metadata": {},
     "execution_count": 10
    }
   ],
   "source": [
    "g.covariantD(1,1,2)"
   ]
  },
  {
   "cell_type": "markdown",
   "metadata": {},
   "source": [
    "Der Riemann Tensor:\n",
    "$$ R_{\\mu \\nu \\rho \\sigma} = \\frac{\\partial \\Gamma_{\\mu \\nu \\sigma}}{\\partial x^{\\rho}} - \\frac{\\partial \\Gamma_{\\mu \\nu \\rho}}{\\partial x^{\\sigma}} + \\Gamma^{\\alpha}_{\\ \\nu \\sigma}\\Gamma_{\\mu \\rho \\alpha} - \\Gamma^{\\alpha}_{\\ \\nu \\rho}\\Gamma_{\\mu \\sigma \\alpha} - \\frac{\\partial g_{\\mu \\alpha}}{\\partial x^{\\rho}}\\Gamma^{\\alpha}_{\\ \\nu \\sigma} + \\frac{\\partial g_{\\mu \\alpha}}{\\partial x^{\\sigma}}\\Gamma^{\\alpha}_{\\ \\nu \\rho} $$\n",
    "\n",
    "Hier speziell $$ R_{1 3 1 3} =  R_{t \\theta t \\theta} $$"
   ]
  },
  {
   "cell_type": "code",
   "execution_count": 11,
   "metadata": {},
   "outputs": [
    {
     "output_type": "execute_result",
     "data": {
      "text/plain": "   d        \n-r⋅──(A(r)) \n   dr       \n────────────\n   2⋅B(r)   ",
      "image/png": "[encoded data removed]",
      "text/latex": "$\\displaystyle - \\frac{r \\frac{d}{d r} A{\\left(r \\right)}}{2 B{\\left(r \\right)}}$"
     },
     "metadata": {},
     "execution_count": 11
    }
   ],
   "source": [
    "Rm = Riemann('Rm', g)\n",
    "Rm(1,3,1,3)"
   ]
  },
  {
   "cell_type": "markdown",
   "metadata": {},
   "source": [
    "Oder in gemischt kontra- kovarianter Form $$ R^{1}{}_{3 1 3} = R^{t}{}_{\\theta t \\theta}  $$"
   ]
  },
  {
   "cell_type": "code",
   "execution_count": 12,
   "metadata": {},
   "outputs": [
    {
     "output_type": "execute_result",
     "data": {
      "text/plain": "   d        \n-r⋅──(A(r)) \n   dr       \n────────────\n2⋅A(r)⋅B(r) ",
      "image/png": "[encoded data removed]",
      "text/latex": "$\\displaystyle - \\frac{r \\frac{d}{d r} A{\\left(r \\right)}}{2 A{\\left(r \\right)} B{\\left(r \\right)}}$"
     },
     "metadata": {},
     "execution_count": 12
    }
   ],
   "source": [
    "Rm(-1,3,1,3)"
   ]
  },
  {
   "cell_type": "markdown",
   "metadata": {},
   "source": [
    "Der Ricci Tensor:\n",
    "\n",
    "$$ R_{\\mu \\nu} = \\frac{\\partial \\Gamma^{\\sigma}_{\\ \\mu \\nu}}{\\partial x^{\\sigma}} - \\frac{\\partial \\Gamma^{\\sigma}_{\\ \\mu \\sigma}}{\\partial x^{\\nu}} + \\Gamma^{\\sigma}_{\\ \\mu \\nu}\\Gamma^{\\rho}_{\\ \\sigma \\rho} - \\Gamma^{\\rho}_{\\ \\mu \\sigma}\\Gamma^{\\sigma}_{\\ \\nu \\rho} $$"
   ]
  },
  {
   "cell_type": "code",
   "execution_count": 13,
   "metadata": {},
   "outputs": [
    {
     "output_type": "execute_result",
     "data": {
      "text/plain": "⎡  2                                                                          \n⎢ d                                        2                                  \n⎢───(A(r))   d        d          ⎛d       ⎞    d                              \n⎢  2         ──(A(r))⋅──(B(r))   ⎜──(A(r))⎟    ──(A(r))                       \n⎢dr          dr       dr         ⎝dr      ⎠    dr                             \n⎢───────── - ───────────────── - ─────────── + ────────                       \n⎢  2⋅B(r)            2           4⋅A(r)⋅B(r)    r⋅B(r)                        \n⎢                 4⋅B (r)                                                     \n⎢                                                                             \n⎢                                                            2                \n⎢                                                           d                 \n⎢                                                          ───(A(r))   d      \n⎢                                                            2         ──(A(r)\n⎢                                                          dr          dr     \n⎢                          0                             - ───────── + ───────\n⎢                                                            2⋅A(r)       4⋅A(\n⎢                                                                             \n⎢                                                                             \n⎢                                                                             \n⎢                                                                             \n⎢                                                                             \n⎢                          0                                                  \n⎢                                                                             \n⎢                                                                             \n⎢                                                                             \n⎢                                                                             \n⎢                                                                             \n⎢                                                                             \n⎢                                                                             \n⎢                                                                             \n⎢                          0                                                  \n⎢                                                                             \n⎣                                                                             \n\n                                                                              \n                                                                              \n                                                                              \n                                                                              \n                                                                              \n      0                                               0                       \n                                                                              \n                                                                              \n                                                                              \n                                                                              \n                       2                                                      \n  d          ⎛d       ⎞    d                                                  \n)⋅──(B(r))   ⎜──(A(r))⎟    ──(B(r))                                           \n  dr         ⎝dr      ⎠    dr                                                 \n────────── + ─────────── + ────────                   0                       \nr)⋅B(r)           2         r⋅B(r)                                            \n               4⋅A (r)                                                        \n                                                                              \n                                       d             d                        \n                                     r⋅──(B(r))    r⋅──(A(r))                 \n                                       dr            dr              1        \n      0                              ────────── - ─────────── + 1 - ────      \n                                         2        2⋅A(r)⋅B(r)       B(r)      \n                                      2⋅B (r)                                 \n                                                                              \n                                                                          ⎛   \n                                                                          ⎜r⋅A\n                                                                          ⎜   \n                                                                          ⎜───\n                                                                          ⎝   \n      0                                               0                   ────\n                                                                              \n                                                                              \n\n                                                                     ⎤\n                                                                     ⎥\n                                                                     ⎥\n                                                                     ⎥\n                                                                     ⎥\n                                0                                    ⎥\n                                                                     ⎥\n                                                                     ⎥\n                                                                     ⎥\n                                                                     ⎥\n                                                                     ⎥\n                                                                     ⎥\n                                                                     ⎥\n                                                                     ⎥\n                                0                                    ⎥\n                                                                     ⎥\n                                                                     ⎥\n                                                                     ⎥\n                                                                     ⎥\n                                                                     ⎥\n                                                                     ⎥\n                                0                                    ⎥\n                                                                     ⎥\n                                                                     ⎥\n                                                                     ⎥\n    d                 d                                ⎞             ⎥\n(r)⋅──(B(r))   r⋅B(r)⋅──(A(r))                         ⎟             ⎥\n    dr                dr               2               ⎟    2        ⎥\n──────────── - ─────────────── + A(r)⋅B (r) - A(r)⋅B(r)⎟⋅sin (\\theta)⎥\n    2                 2                                ⎠             ⎥\n─────────────────────────────────────────────────────────────────────⎥\n                                  2                                  ⎥\n                            A(r)⋅B (r)                               ⎦",
      "text/latex": "$\\displaystyle \\left[\\begin{matrix}\\frac{\\frac{d^{2}}{d r^{2}} A{\\left(r \\right)}}{2 B{\\left(r \\right)}} - \\frac{\\frac{d}{d r} A{\\left(r \\right)} \\frac{d}{d r} B{\\left(r \\right)}}{4 B^{2}{\\left(r \\right)}} - \\frac{\\left(\\frac{d}{d r} A{\\left(r \\right)}\\right)^{2}}{4 A{\\left(r \\right)} B{\\left(r \\right)}} + \\frac{\\frac{d}{d r} A{\\left(r \\right)}}{r B{\\left(r \\right)}} & 0 & 0 & 0\\\\0 & - \\frac{\\frac{d^{2}}{d r^{2}} A{\\left(r \\right)}}{2 A{\\left(r \\right)}} + \\frac{\\frac{d}{d r} A{\\left(r \\right)} \\frac{d}{d r} B{\\left(r \\right)}}{4 A{\\left(r \\right)} B{\\left(r \\right)}} + \\frac{\\left(\\frac{d}{d r} A{\\left(r \\right)}\\right)^{2}}{4 A^{2}{\\left(r \\right)}} + \\frac{\\frac{d}{d r} B{\\left(r \\right)}}{r B{\\left(r \\right)}} & 0 & 0\\\\0 & 0 & \\frac{r \\frac{d}{d r} B{\\left(r \\right)}}{2 B^{2}{\\left(r \\right)}} - \\frac{r \\frac{d}{d r} A{\\left(r \\right)}}{2 A{\\left(r \\right)} B{\\left(r \\right)}} + 1 - \\frac{1}{B{\\left(r \\right)}} & 0\\\\0 & 0 & 0 & \\frac{\\left(\\frac{r A{\\left(r \\right)} \\frac{d}{d r} B{\\left(r \\right)}}{2} - \\frac{r B{\\left(r \\right)} \\frac{d}{d r} A{\\left(r \\right)}}{2} + A{\\left(r \\right)} B^{2}{\\left(r \\right)} - A{\\left(r \\right)} B{\\left(r \\right)}\\right) \\sin^{2}{\\left(\\theta \\right)}}{A{\\left(r \\right)} B^{2}{\\left(r \\right)}}\\end{matrix}\\right]$"
     },
     "metadata": {},
     "execution_count": 13
    }
   ],
   "source": [
    "Ri = Ricci('Ri', g)\n",
    "Ri(All, All)"
   ]
  },
  {
   "cell_type": "markdown",
   "metadata": {},
   "source": [
    "Der Ricci Tensor lässt sich auch durch folgende Kontraktion aus dem Riemann Tensor berechnen:\n",
    "$R_{\\mu \\nu} = R^{\\rho}_{\\ \\mu \\rho \\nu} $"
   ]
  },
  {
   "cell_type": "code",
   "execution_count": 14,
   "metadata": {},
   "outputs": [
    {
     "output_type": "execute_result",
     "data": {
      "text/plain": "⎡  2                                                                          \n⎢ d                                        2                                  \n⎢───(A(r))   d        d          ⎛d       ⎞    d                              \n⎢  2         ──(A(r))⋅──(B(r))   ⎜──(A(r))⎟    ──(A(r))                       \n⎢dr          dr       dr         ⎝dr      ⎠    dr                             \n⎢───────── - ───────────────── - ─────────── + ────────                       \n⎢  2⋅B(r)            2           4⋅A(r)⋅B(r)    r⋅B(r)                        \n⎢                 4⋅B (r)                                                     \n⎢                                                                             \n⎢                                                            2                \n⎢                                                           d                 \n⎢                                                          ───(A(r))   d      \n⎢                                                            2         ──(A(r)\n⎢                                                          dr          dr     \n⎢                          0                             - ───────── + ───────\n⎢                                                            2⋅A(r)       4⋅A(\n⎢                                                                             \n⎢                                                                             \n⎢                                                                             \n⎢                                                                             \n⎢                                                                             \n⎢                          0                                                  \n⎢                                                                             \n⎢                                                                             \n⎢                                                                             \n⎢                                                                             \n⎢                                                                             \n⎢                                                                             \n⎢                          0                                                  \n⎢                                                                             \n⎣                                                                             \n\n                                                                              \n                                                                              \n                                                                              \n                                                                              \n                                                                              \n      0                                               0                       \n                                                                              \n                                                                              \n                                                                              \n                                                                              \n                       2                                                      \n  d          ⎛d       ⎞    d                                                  \n)⋅──(B(r))   ⎜──(A(r))⎟    ──(B(r))                                           \n  dr         ⎝dr      ⎠    dr                                                 \n────────── + ─────────── + ────────                   0                       \nr)⋅B(r)           2         r⋅B(r)                                            \n               4⋅A (r)                                                        \n                                                                              \n                                       d             d                        \n                                     r⋅──(B(r))    r⋅──(A(r))                 \n                                       dr            dr              1        \n      0                              ────────── - ─────────── + 1 - ────      \n                                         2        2⋅A(r)⋅B(r)       B(r)      \n                                      2⋅B (r)                                 \n                                                                              \n                                                                          ⎛   \n                                                                          ⎜r⋅A\n                                                                          ⎝   \n      0                                               0                   ────\n                                                                              \n                                                                              \n\n                                                                     ⎤\n                                                                     ⎥\n                                                                     ⎥\n                                                                     ⎥\n                                                                     ⎥\n                                0                                    ⎥\n                                                                     ⎥\n                                                                     ⎥\n                                                                     ⎥\n                                                                     ⎥\n                                                                     ⎥\n                                                                     ⎥\n                                                                     ⎥\n                                                                     ⎥\n                                0                                    ⎥\n                                                                     ⎥\n                                                                     ⎥\n                                                                     ⎥\n                                                                     ⎥\n                                                                     ⎥\n                                                                     ⎥\n                                0                                    ⎥\n                                                                     ⎥\n                                                                     ⎥\n                                                                     ⎥\n    d                 d                                ⎞    2        ⎥\n(r)⋅──(B(r)) - r⋅B(r)⋅──(A(r)) + 2⋅(B(r) - 1)⋅A(r)⋅B(r)⎟⋅sin (\\theta)⎥\n    dr                dr                               ⎠             ⎥\n─────────────────────────────────────────────────────────────────────⎥\n                                   2                                 ⎥\n                           2⋅A(r)⋅B (r)                              ⎦",
      "text/latex": "$\\displaystyle \\left[\\begin{matrix}\\frac{\\frac{d^{2}}{d r^{2}} A{\\left(r \\right)}}{2 B{\\left(r \\right)}} - \\frac{\\frac{d}{d r} A{\\left(r \\right)} \\frac{d}{d r} B{\\left(r \\right)}}{4 B^{2}{\\left(r \\right)}} - \\frac{\\left(\\frac{d}{d r} A{\\left(r \\right)}\\right)^{2}}{4 A{\\left(r \\right)} B{\\left(r \\right)}} + \\frac{\\frac{d}{d r} A{\\left(r \\right)}}{r B{\\left(r \\right)}} & 0 & 0 & 0\\\\0 & - \\frac{\\frac{d^{2}}{d r^{2}} A{\\left(r \\right)}}{2 A{\\left(r \\right)}} + \\frac{\\frac{d}{d r} A{\\left(r \\right)} \\frac{d}{d r} B{\\left(r \\right)}}{4 A{\\left(r \\right)} B{\\left(r \\right)}} + \\frac{\\left(\\frac{d}{d r} A{\\left(r \\right)}\\right)^{2}}{4 A^{2}{\\left(r \\right)}} + \\frac{\\frac{d}{d r} B{\\left(r \\right)}}{r B{\\left(r \\right)}} & 0 & 0\\\\0 & 0 & \\frac{r \\frac{d}{d r} B{\\left(r \\right)}}{2 B^{2}{\\left(r \\right)}} - \\frac{r \\frac{d}{d r} A{\\left(r \\right)}}{2 A{\\left(r \\right)} B{\\left(r \\right)}} + 1 - \\frac{1}{B{\\left(r \\right)}} & 0\\\\0 & 0 & 0 & \\frac{\\left(r A{\\left(r \\right)} \\frac{d}{d r} B{\\left(r \\right)} - r B{\\left(r \\right)} \\frac{d}{d r} A{\\left(r \\right)} + 2 \\left(B{\\left(r \\right)} - 1\\right) A{\\left(r \\right)} B{\\left(r \\right)}\\right) \\sin^{2}{\\left(\\theta \\right)}}{2 A{\\left(r \\right)} B^{2}{\\left(r \\right)}}\\end{matrix}\\right]$"
     },
     "metadata": {},
     "execution_count": 14
    }
   ],
   "source": [
    "ricci = sum([Rm(i, All, k, All)*g(-i, -k)\n",
    "             for i, k in list(variations(range(1, 5), 2, True))],\n",
    "            zeros(4))\n",
    "ricci.simplify()\n",
    "ricci"
   ]
  },
  {
   "cell_type": "markdown",
   "metadata": {},
   "source": [
    "Der Ricci Skalar ergibt sich aus der Kontraktion des Ricci Tensors: $R = R_{\\mu}^{\\ \\mu} = g^{\\mu \\nu}R_{\\mu \\nu}$"
   ]
  },
  {
   "cell_type": "code",
   "execution_count": 14,
   "metadata": {},
   "outputs": [
    {
     "data": {
      "image/png": "[encoded data removed]",
      "text/latex": [
       "$$\\frac{\\frac{d^{2}}{d r^{2}} A{\\left (r \\right )}}{A{\\left (r \\right )} B{\\left (r \\right )}} - \\frac{\\frac{d}{d r} A{\\left (r \\right )} \\frac{d}{d r} B{\\left (r \\right )}}{2 A{\\left (r \\right )} B^{2}{\\left (r \\right )}} - \\frac{\\left(\\frac{d}{d r} A{\\left (r \\right )}\\right)^{2}}{2 A^{2}{\\left (r \\right )} B{\\left (r \\right )}} - \\frac{2 \\frac{d}{d r} B{\\left (r \\right )}}{r B^{2}{\\left (r \\right )}} + \\frac{2 \\frac{d}{d r} A{\\left (r \\right )}}{r A{\\left (r \\right )} B{\\left (r \\right )}} - \\frac{2}{r^{2}} + \\frac{2}{r^{2} B{\\left (r \\right )}}$$"
      ],
      "text/plain": [
       "  2                                                                           \n",
       " d                                        2                                   \n",
       "───(A(r))   d        d          ⎛d       ⎞       d             d              \n",
       "  2         ──(A(r))⋅──(B(r))   ⎜──(A(r))⎟     2⋅──(B(r))    2⋅──(A(r))       \n",
       "dr          dr       dr         ⎝dr      ⎠       dr            dr         2   \n",
       "───────── - ───────────────── - ──────────── - ────────── + ─────────── - ── +\n",
       "A(r)⋅B(r)              2           2               2        r⋅A(r)⋅B(r)    2  \n",
       "               2⋅A(r)⋅B (r)     2⋅A (r)⋅B(r)    r⋅B (r)                   r   \n",
       "\n",
       "        \n",
       "        \n",
       "        \n",
       "        \n",
       "    2   \n",
       " ───────\n",
       "  2     \n",
       " r ⋅B(r)"
      ]
     },
     "execution_count": 14,
     "metadata": {},
     "output_type": "execute_result"
    }
   ],
   "source": [
    "Ri.scalar()"
   ]
  },
  {
   "cell_type": "markdown",
   "metadata": {},
   "source": [
    "Der Einstein Tensor:$$ G_{\\mu \\nu} = R_{\\mu \\nu} - \\frac{1}{2}g_{\\mu \\nu}R $$"
   ]
  },
  {
   "cell_type": "code",
   "execution_count": 15,
   "metadata": {},
   "outputs": [
    {
     "data": {
      "image/png": "[encoded data removed]",
      "text/latex": [
       "$$\\left[\\begin{matrix}\\frac{\\left(r \\frac{d}{d r} B{\\left (r \\right )} + B^{2}{\\left (r \\right )} - B{\\left (r \\right )}\\right) A{\\left (r \\right )}}{r^{2} B^{2}{\\left (r \\right )}} & 0 & 0 & 0\\\\0 & \\frac{\\frac{d}{d r} A{\\left (r \\right )}}{r A{\\left (r \\right )}} - \\frac{B{\\left (r \\right )}}{r^{2}} + \\frac{1}{r^{2}} & 0 & 0\\\\0 & 0 & \\frac{r \\left(2 r A{\\left (r \\right )} B{\\left (r \\right )} \\frac{d^{2}}{d r^{2}} A{\\left (r \\right )} - r A{\\left (r \\right )} \\frac{d}{d r} A{\\left (r \\right )} \\frac{d}{d r} B{\\left (r \\right )} - r B{\\left (r \\right )} \\left(\\frac{d}{d r} A{\\left (r \\right )}\\right)^{2} - 2 A^{2}{\\left (r \\right )} \\frac{d}{d r} B{\\left (r \\right )} + 2 A{\\left (r \\right )} B{\\left (r \\right )} \\frac{d}{d r} A{\\left (r \\right )}\\right)}{4 A^{2}{\\left (r \\right )} B^{2}{\\left (r \\right )}} & 0\\\\0 & 0 & 0 & \\frac{r \\left(2 r A{\\left (r \\right )} B{\\left (r \\right )} \\frac{d^{2}}{d r^{2}} A{\\left (r \\right )} - r A{\\left (r \\right )} \\frac{d}{d r} A{\\left (r \\right )} \\frac{d}{d r} B{\\left (r \\right )} - r B{\\left (r \\right )} \\left(\\frac{d}{d r} A{\\left (r \\right )}\\right)^{2} - 2 A^{2}{\\left (r \\right )} \\frac{d}{d r} B{\\left (r \\right )} + 2 A{\\left (r \\right )} B{\\left (r \\right )} \\frac{d}{d r} A{\\left (r \\right )}\\right) \\sin^{2}{\\left (\\theta \\right )}}{4 A^{2}{\\left (r \\right )} B^{2}{\\left (r \\right )}}\\end{matrix}\\right]$$"
      ],
      "text/plain": [
       "⎡⎛  d           2          ⎞                                                  \n",
       "⎢⎜r⋅──(B(r)) + B (r) - B(r)⎟⋅A(r)                                             \n",
       "⎢⎝  dr                     ⎠                                                  \n",
       "⎢────────────────────────────────           0                                 \n",
       "⎢             2  2                                                            \n",
       "⎢            r ⋅B (r)                                                         \n",
       "⎢                                                                             \n",
       "⎢                                  d                                          \n",
       "⎢                                  ──(A(r))                                   \n",
       "⎢                                  dr         B(r)   1                        \n",
       "⎢               0                  ──────── - ──── + ──                       \n",
       "⎢                                   r⋅A(r)      2     2                       \n",
       "⎢                                              r     r                        \n",
       "⎢                                                                             \n",
       "⎢                                                          ⎛                2 \n",
       "⎢                                                          ⎜               d  \n",
       "⎢                                                        r⋅⎜2⋅r⋅A(r)⋅B(r)⋅───(\n",
       "⎢                                                          ⎜                2 \n",
       "⎢                                                          ⎝              dr  \n",
       "⎢               0                           0            ─────────────────────\n",
       "⎢                                                                             \n",
       "⎢                                                                             \n",
       "⎢                                                                             \n",
       "⎢                                                                             \n",
       "⎢                                                                             \n",
       "⎢                                                                             \n",
       "⎢                                                                             \n",
       "⎢                                                                             \n",
       "⎢               0                           0                                 \n",
       "⎢                                                                             \n",
       "⎣                                                                             \n",
       "\n",
       "                                                                              \n",
       "                                                                              \n",
       "                                                                              \n",
       "                                     0                                        \n",
       "                                                                              \n",
       "                                                                              \n",
       "                                                                              \n",
       "                                                                              \n",
       "                                                                              \n",
       "                                                                              \n",
       "                                     0                                        \n",
       "                                                                              \n",
       "                                                                              \n",
       "                                                                              \n",
       "                                                    2                         \n",
       "               d        d                 ⎛d       ⎞       2    d             \n",
       "A(r)) - r⋅A(r)⋅──(A(r))⋅──(B(r)) - r⋅B(r)⋅⎜──(A(r))⎟  - 2⋅A (r)⋅──(B(r)) + 2⋅A\n",
       "               dr       dr                ⎝dr      ⎠            dr            \n",
       "                                                                              \n",
       "──────────────────────────────────────────────────────────────────────────────\n",
       "                                  2     2                                     \n",
       "                               4⋅A (r)⋅B (r)                                  \n",
       "                                                                              \n",
       "                                                                              \n",
       "                                                                              \n",
       "                                                                              \n",
       "                                                                              \n",
       "                                                                              \n",
       "                                     0                                        \n",
       "                                                                              \n",
       "                                                                              \n",
       "\n",
       "                                                                              \n",
       "                                                                              \n",
       "                                                                              \n",
       "                                                                              \n",
       "                                                                              \n",
       "                                                                              \n",
       "                                                                              \n",
       "                                                                              \n",
       "                                                                              \n",
       "                                                                              \n",
       "                                                                              \n",
       "                                                                              \n",
       "                                                                              \n",
       "                                                                              \n",
       "                 ⎞                                                            \n",
       "         d       ⎟                                                            \n",
       "(r)⋅B(r)⋅──(A(r))⎟                                                            \n",
       "         dr      ⎟                                                            \n",
       "                 ⎠                                                            \n",
       "──────────────────                                                            \n",
       "                                                                              \n",
       "                                                                              \n",
       "                                                                              \n",
       "                      ⎛                2                                      \n",
       "                      ⎜               d                 d        d            \n",
       "                    r⋅⎜2⋅r⋅A(r)⋅B(r)⋅───(A(r)) - r⋅A(r)⋅──(A(r))⋅──(B(r)) - r⋅\n",
       "                      ⎜                2                dr       dr           \n",
       "                      ⎝              dr                                       \n",
       "                    ──────────────────────────────────────────────────────────\n",
       "                                                                              \n",
       "                                                                              \n",
       "\n",
       "                                                                        ⎤\n",
       "                                                                        ⎥\n",
       "                                                                        ⎥\n",
       "      0                                                                 ⎥\n",
       "                                                                        ⎥\n",
       "                                                                        ⎥\n",
       "                                                                        ⎥\n",
       "                                                                        ⎥\n",
       "                                                                        ⎥\n",
       "                                                                        ⎥\n",
       "      0                                                                 ⎥\n",
       "                                                                        ⎥\n",
       "                                                                        ⎥\n",
       "                                                                        ⎥\n",
       "                                                                        ⎥\n",
       "                                                                        ⎥\n",
       "                                                                        ⎥\n",
       "                                                                        ⎥\n",
       "                                                                        ⎥\n",
       "      0                                                                 ⎥\n",
       "                                                                        ⎥\n",
       "                                                                        ⎥\n",
       "                                                                        ⎥\n",
       "               2                                          ⎞             ⎥\n",
       "     ⎛d       ⎞       2    d                      d       ⎟    2        ⎥\n",
       "B(r)⋅⎜──(A(r))⎟  - 2⋅A (r)⋅──(B(r)) + 2⋅A(r)⋅B(r)⋅──(A(r))⎟⋅sin (\\theta)⎥\n",
       "     ⎝dr      ⎠            dr                     dr      ⎟             ⎥\n",
       "                                                          ⎠             ⎥\n",
       "────────────────────────────────────────────────────────────────────────⎥\n",
       "   2     2                                                              ⎥\n",
       "4⋅A (r)⋅B (r)                                                           ⎦"
      ]
     },
     "execution_count": 15,
     "metadata": {},
     "output_type": "execute_result"
    }
   ],
   "source": [
    "G = Einstein('G', Ri)\n",
    "G(All, All)"
   ]
  }
 ],
 "metadata": {
  "kernelspec": {
   "display_name": "Python 3",
   "language": "python",
   "name": "python3"
  },
  "language_info": {
   "codemirror_mode": {
    "name": "ipython",
    "version": 3
   },
   "file_extension": ".py",
   "mimetype": "text/x-python",
   "name": "python",
   "nbconvert_exporter": "python",
   "pygments_lexer": "ipython3",
   "version": "3.7.7-final"
  }
 },
 "nbformat": 4,
 "nbformat_minor": 4
}