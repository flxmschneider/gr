{
 "cells": [
  {
   "cell_type": "markdown",
   "metadata": {},
   "source": [
    "# Allgemeine Relativitätstheorie mit dem Computer \n",
    "# (General Theory of Relativity on the Computer)\n",
    "\n",
    "## Vorlesung gehalten an der \n",
    "## J.W.Goethe-Universität in Frankfurt am Main \n",
    "## (Sommersemester 2020)\n",
    "\n",
    "### von Dr.phil.nat. Dr.rer.pol. Matthias Hanauske\n",
    "\n",
    "### Frankfurt am Main 15.05.2020\n",
    "\n",
    "\n",
    "## Erster Vorlesungsteil: Allgemeine Relativitätstheorie mit Python\n"
   ]
  },
  {
   "cell_type": "markdown",
   "metadata": {},
   "source": [
    "## Bewegung eines Probekörpers um ein schwarzes Loch in der Ebene"
   ]
  },
  {
   "cell_type": "markdown",
   "metadata": {},
   "source": [
    "Im folgenden wird die Geodätengleichung in vorgegebener Schwarzschild Raumzeit betrachtet. Die Geodätengleichung beschreibt wie sich ein Probekörper (Masse = 0) im Raum bewegt und sagt voraus, dass diese Bewegung sich stehts entlang der kürzesten Kurve, in der durch die Metrik beschriebenen gekrümmten Raumzeit, vollzieht. Zunächst wird das Python Packet \"GraviPy\" eingebunden, welches auf dem Packet SymPy basiert und symbolische Berechnungen in der Allgemeinen Relativitätstheorie relativ einfach möglich macht."
   ]
  },
  {
   "cell_type": "code",
   "execution_count": 2,
   "metadata": {
    "jupyter": {
     "outputs_hidden": false
    }
   },
   "outputs": [],
   "source": [
    "from gravipy.tensorial import * \n",
    "import sympy as sym\n",
    "import inspect\n",
    "import numpy as np\n",
    "import math\n",
    "sym.init_printing()"
   ]
  },
  {
   "cell_type": "markdown",
   "metadata": {},
   "source": [
    "Definition der Koordinaten und der kovarianten Raumzeit-Metrik der Schwarzschildmetrik:\n",
    "$$ g_{\\mu\\nu}=\\left( \\begin{array}{cccc} 1-\\frac{2\\,M}{r} & 0 & 0 & 0\\\\ 0&  -\\frac{1}{1-\\frac{2\\,M}{r}}&  0&0 \\\\ 0&  0&  -r^2& 0\\\\ 0&  0&  0& -r^2 \\hbox{sin}^2(\\theta)\\end{array} \\right)$$\n"
   ]
  },
  {
   "cell_type": "code",
   "execution_count": 3,
   "metadata": {
    "jupyter": {
     "outputs_hidden": false
    }
   },
   "outputs": [],
   "source": [
    "# define some symbolic variables\n",
    "t, r, theta, phi, M = symbols('t, r, \\\\theta, \\phi, M')\n",
    "# create a coordinate four-vector object instantiating \n",
    "# the Coordinates class\n",
    "x = Coordinates('x', [t, r, theta, phi])\n",
    "# define a matrix of a metric tensor components\n",
    "Metric = diag((1-2*M/r), -1/(1-2*M/r), -r**2, -r**2*sin(theta)**2)\n",
    "#Metric = diag(A, -B, -r**2, -r**2*sin(theta)**2)\n",
    "# create a metric tensor object instantiating the MetricTensor class\n",
    "g = MetricTensor('g', x, Metric)"
   ]
  },
  {
   "cell_type": "code",
   "execution_count": 4,
   "metadata": {},
   "outputs": [
    {
     "data": {
      "image/png": "[encoded data removed]",
      "text/latex": [
       "$$\\left[\\begin{matrix}- \\frac{2 M}{r} + 1 & 0 & 0 & 0\\\\0 & - \\frac{1}{- \\frac{2 M}{r} + 1} & 0 & 0\\\\0 & 0 & - r^{2} & 0\\\\0 & 0 & 0 & - r^{2} \\sin^{2}{\\left (\\theta \\right )}\\end{matrix}\\right]$$"
      ],
      "text/plain": [
       "⎡  2⋅M                                      ⎤\n",
       "⎢- ─── + 1      0       0          0        ⎥\n",
       "⎢   r                                       ⎥\n",
       "⎢                                           ⎥\n",
       "⎢              -1                           ⎥\n",
       "⎢    0      ─────────   0          0        ⎥\n",
       "⎢             2⋅M                           ⎥\n",
       "⎢           - ─── + 1                       ⎥\n",
       "⎢              r                            ⎥\n",
       "⎢                                           ⎥\n",
       "⎢                        2                  ⎥\n",
       "⎢    0          0      -r          0        ⎥\n",
       "⎢                                           ⎥\n",
       "⎢                             2    2        ⎥\n",
       "⎣    0          0       0   -r ⋅sin (\\theta)⎦"
      ]
     },
     "execution_count": 4,
     "metadata": {},
     "output_type": "execute_result"
    }
   ],
   "source": [
    "g(All, All)"
   ]
  },
  {
   "cell_type": "markdown",
   "metadata": {},
   "source": [
    "Kontravariante Form der Metrik ($ g^{\\mu\\nu}$)"
   ]
  },
  {
   "cell_type": "code",
   "execution_count": 5,
   "metadata": {},
   "outputs": [
    {
     "data": {
      "image/png": "[encoded data removed]",
      "text/latex": [
       "$$\\left[\\begin{matrix}\\frac{1}{- \\frac{2 M}{r} + 1} & 0 & 0 & 0\\\\0 & \\frac{2 M}{r} - 1 & 0 & 0\\\\0 & 0 & - \\frac{1}{r^{2}} & 0\\\\0 & 0 & 0 & - \\frac{1}{r^{2} \\sin^{2}{\\left (\\theta \\right )}}\\end{matrix}\\right]$$"
      ],
      "text/plain": [
       "⎡    1                                   ⎤\n",
       "⎢─────────     0      0          0       ⎥\n",
       "⎢  2⋅M                                   ⎥\n",
       "⎢- ─── + 1                               ⎥\n",
       "⎢   r                                    ⎥\n",
       "⎢                                        ⎥\n",
       "⎢           2⋅M                          ⎥\n",
       "⎢    0      ─── - 1   0          0       ⎥\n",
       "⎢            r                           ⎥\n",
       "⎢                                        ⎥\n",
       "⎢                    -1                  ⎥\n",
       "⎢    0         0     ───         0       ⎥\n",
       "⎢                      2                 ⎥\n",
       "⎢                     r                  ⎥\n",
       "⎢                                        ⎥\n",
       "⎢                               -1       ⎥\n",
       "⎢    0         0      0   ───────────────⎥\n",
       "⎢                          2    2        ⎥\n",
       "⎣                         r ⋅sin (\\theta)⎦"
      ]
     },
     "execution_count": 5,
     "metadata": {},
     "output_type": "execute_result"
    }
   ],
   "source": [
    "g(-All, -All)"
   ]
  },
  {
   "cell_type": "markdown",
   "metadata": {},
   "source": [
    "Die Chistoffel Symbole in (kontravarianter Form): \n",
    "$$ \\Gamma_{\\rho \\mu \\nu} = g_{\\rho \\sigma}\\Gamma^{\\sigma}_{\\ \\mu \\nu} = \\frac{1}{2}(g_{\\rho \\mu| \\nu} + g_{\\rho \\nu| \\mu} - g_{\\mu \\nu| \\rho})$$\n",
    "\n",
    "Hier speziell $$ \\Gamma_{2 2 2} = \\Gamma_{r r r}$$"
   ]
  },
  {
   "cell_type": "code",
   "execution_count": 6,
   "metadata": {},
   "outputs": [
    {
     "data": {
      "image/png": "[encoded data removed]",
      "text/latex": [
       "$$\\frac{M}{\\left(2 M - r\\right)^{2}}$$"
      ],
      "text/plain": [
       "    M     \n",
       "──────────\n",
       "         2\n",
       "(2⋅M - r) "
      ]
     },
     "execution_count": 6,
     "metadata": {},
     "output_type": "execute_result"
    }
   ],
   "source": [
    "Ga = Christoffel('Ga', g)\n",
    "Ga(2, 2, 2)"
   ]
  },
  {
   "cell_type": "markdown",
   "metadata": {},
   "source": [
    "Der Riemann Tensor:\n",
    "$$ R_{\\mu \\nu \\rho \\sigma} = \\frac{\\partial \\Gamma_{\\mu \\nu \\sigma}}{\\partial x^{\\rho}} - \\frac{\\partial \\Gamma_{\\mu \\nu \\rho}}{\\partial x^{\\sigma}} + \\Gamma^{\\alpha}_{\\ \\nu \\sigma}\\Gamma_{\\mu \\rho \\alpha} - \\Gamma^{\\alpha}_{\\ \\nu \\rho}\\Gamma_{\\mu \\sigma \\alpha} - \\frac{\\partial g_{\\mu \\alpha}}{\\partial x^{\\rho}}\\Gamma^{\\alpha}_{\\ \\nu \\sigma} + \\frac{\\partial g_{\\mu \\alpha}}{\\partial x^{\\sigma}}\\Gamma^{\\alpha}_{\\ \\nu \\rho} $$\n",
    "\n",
    "Hier speziell $$ R_{1 3 1 3} =  R_{t \\theta t \\theta} $$"
   ]
  },
  {
   "cell_type": "code",
   "execution_count": 7,
   "metadata": {},
   "outputs": [
    {
     "data": {
      "image/png": "[encoded data removed]",
      "text/latex": [
       "$$\\frac{M \\left(2 M - r\\right)}{r^{2}}$$"
      ],
      "text/plain": [
       "M⋅(2⋅M - r)\n",
       "───────────\n",
       "      2    \n",
       "     r     "
      ]
     },
     "execution_count": 7,
     "metadata": {},
     "output_type": "execute_result"
    }
   ],
   "source": [
    "Rm = Riemann('Rm', g)\n",
    "Rm(1,3,1,3)"
   ]
  },
  {
   "cell_type": "markdown",
   "metadata": {},
   "source": [
    "Oder in gemischt kontra- kovarianter Form $$ R^{1}{}_{3 1 3} = R^{t}{}_{\\theta t \\theta}  $$"
   ]
  },
  {
   "cell_type": "code",
   "execution_count": 8,
   "metadata": {},
   "outputs": [
    {
     "data": {
      "image/png": "[encoded data removed]",
      "text/latex": [
       "$$\\frac{M \\left(2 M - r\\right)}{r \\left(- 2 M + r\\right)}$$"
      ],
      "text/plain": [
       "M⋅(2⋅M - r) \n",
       "────────────\n",
       "r⋅(-2⋅M + r)"
      ]
     },
     "execution_count": 8,
     "metadata": {},
     "output_type": "execute_result"
    }
   ],
   "source": [
    "Rm(-1,3,1,3)"
   ]
  },
  {
   "cell_type": "markdown",
   "metadata": {},
   "source": [
    "Der Ricci Tensor:\n",
    "\n",
    "$$ R_{\\mu \\nu} = \\frac{\\partial \\Gamma^{\\sigma}_{\\ \\mu \\nu}}{\\partial x^{\\sigma}} - \\frac{\\partial \\Gamma^{\\sigma}_{\\ \\mu \\sigma}}{\\partial x^{\\nu}} + \\Gamma^{\\sigma}_{\\ \\mu \\nu}\\Gamma^{\\rho}_{\\ \\sigma \\rho} - \\Gamma^{\\rho}_{\\ \\mu \\sigma}\\Gamma^{\\sigma}_{\\ \\nu \\rho} $$"
   ]
  },
  {
   "cell_type": "code",
   "execution_count": 9,
   "metadata": {},
   "outputs": [
    {
     "data": {
      "image/png": "[encoded data removed]",
      "text/latex": [
       "$$\\left[\\begin{matrix}0 & 0 & 0 & 0\\\\0 & 0 & 0 & 0\\\\0 & 0 & 0 & 0\\\\0 & 0 & 0 & 0\\end{matrix}\\right]$$"
      ],
      "text/plain": [
       "⎡0  0  0  0⎤\n",
       "⎢          ⎥\n",
       "⎢0  0  0  0⎥\n",
       "⎢          ⎥\n",
       "⎢0  0  0  0⎥\n",
       "⎢          ⎥\n",
       "⎣0  0  0  0⎦"
      ]
     },
     "execution_count": 9,
     "metadata": {},
     "output_type": "execute_result"
    }
   ],
   "source": [
    "Ri = Ricci('Ri', g)\n",
    "Ri(All, All)"
   ]
  },
  {
   "cell_type": "markdown",
   "metadata": {},
   "source": [
    "Der Ricci Tensor lässt sich auch durch folgende Kontraktion aus dem Riemann Tensor berechnen:\n",
    "$R_{\\mu \\nu} = R^{\\rho}_{\\ \\mu \\rho \\nu} $"
   ]
  },
  {
   "cell_type": "code",
   "execution_count": 10,
   "metadata": {},
   "outputs": [
    {
     "data": {
      "image/png": "[encoded data removed]",
      "text/latex": [
       "$$\\left[\\begin{matrix}0 & 0 & 0 & 0\\\\0 & 0 & 0 & 0\\\\0 & 0 & 0 & 0\\\\0 & 0 & 0 & 0\\end{matrix}\\right]$$"
      ],
      "text/plain": [
       "⎡0  0  0  0⎤\n",
       "⎢          ⎥\n",
       "⎢0  0  0  0⎥\n",
       "⎢          ⎥\n",
       "⎢0  0  0  0⎥\n",
       "⎢          ⎥\n",
       "⎣0  0  0  0⎦"
      ]
     },
     "execution_count": 10,
     "metadata": {},
     "output_type": "execute_result"
    }
   ],
   "source": [
    "ricci = sum([Rm(i, All, k, All)*g(-i, -k)\n",
    "             for i, k in list(variations(range(1, 5), 2, True))],\n",
    "            zeros(4))\n",
    "ricci.simplify()\n",
    "ricci"
   ]
  },
  {
   "cell_type": "markdown",
   "metadata": {},
   "source": [
    "Der Ricci Skalar ergibt sich aus der Kontraktion des Ricci Tensors: $R = R_{\\mu}^{\\ \\mu} = g^{\\mu \\nu}R_{\\mu \\nu}$"
   ]
  },
  {
   "cell_type": "code",
   "execution_count": 11,
   "metadata": {},
   "outputs": [
    {
     "data": {
      "image/png": "[encoded data removed]",
      "text/latex": [
       "$$0$$"
      ],
      "text/plain": [
       "0"
      ]
     },
     "execution_count": 11,
     "metadata": {},
     "output_type": "execute_result"
    }
   ],
   "source": [
    "Ri.scalar()"
   ]
  },
  {
   "cell_type": "markdown",
   "metadata": {},
   "source": [
    "Der Einstein Tensor:$$ G_{\\mu \\nu} = R_{\\mu \\nu} - \\frac{1}{2}g_{\\mu \\nu}R $$"
   ]
  },
  {
   "cell_type": "code",
   "execution_count": 12,
   "metadata": {},
   "outputs": [
    {
     "data": {
      "image/png": "[encoded data removed]",
      "text/latex": [
       "$$\\left[\\begin{matrix}0 & 0 & 0 & 0\\\\0 & 0 & 0 & 0\\\\0 & 0 & 0 & 0\\\\0 & 0 & 0 & 0\\end{matrix}\\right]$$"
      ],
      "text/plain": [
       "⎡0  0  0  0⎤\n",
       "⎢          ⎥\n",
       "⎢0  0  0  0⎥\n",
       "⎢          ⎥\n",
       "⎢0  0  0  0⎥\n",
       "⎢          ⎥\n",
       "⎣0  0  0  0⎦"
      ]
     },
     "execution_count": 12,
     "metadata": {},
     "output_type": "execute_result"
    }
   ],
   "source": [
    "G = Einstein('G', Ri)\n",
    "G(All, All)"
   ]
  },
  {
   "cell_type": "markdown",
   "metadata": {},
   "source": [
    "### Geodätische Bewegung eines Probekörpers\n",
    "\n",
    "Die Geodätengleichunglässt sich durch folgendes Variationsprinzip herleiten:\n",
    "$$\\int_A^B ds= \\int_A^B \\sqrt{g_{\\mu\\nu} dx^\\mu dx^\\nu}=\\int_A^B \\sqrt{g_{\\mu\\nu} \\frac{dx^\\mu}{d\\lambda} \\frac{dx^\\nu}{d\\lambda}} d\\lambda \\rightarrow \\hbox{Extremal}$$\n",
    ", wobei sich dann die Geod&auml;tengleichung mittels der Euler-Lagrange Gleichungen \n",
    "$L = \\sqrt{g_{\\mu\\nu} \\frac{dx^\\mu}{d\\lambda} \\frac{dx^\\nu}{d\\lambda}}$, bzw. \n",
    " alternativ $L = g_{\\mu\\nu} \\frac{dx^\\mu}{d\\lambda} \\frac{dx^\\nu}{d\\lambda}$ ergibt:\n",
    "$$\n",
    "\\frac{d}{d\\lambda} \\left( \\frac{\\partial L}{\\partial \\frac{\\partial x^\\mu}{\\partial \\lambda}} \\right) - \n",
    "    \\frac{\\partial L}{\\partial x^\\mu} = 0 \\quad \\rightarrow \\quad \\frac{d^2 x^\\mu}{d\\lambda^2} +  \n",
    "    \\Gamma^\\mu_{\\nu \\rho} \\frac{d x^\\nu}{d\\lambda} \\frac{d x^\\rho}{d\\lambda} ~=~ 0 \n",
    "$$\n",
    "$\\Gamma^\\mu_{\\nu \\rho}$ sind die Christoffel Symbole zweiter Art und $\\lambda$ ein affiner Parameter \n",
    "(z.B. die Eigenzeit $\\tau$ des Probekörpers). Die Geodätengleichung ist ein System gekoppelter Differentialgleichungen und sie lässt sich in Python mit der Funktion ''Geodesic'' berechnen (in vollständig kovarianter Form): \n",
    "\n",
    "$$ \\frac{d^2x_\\mu}{d\\tau^2} + \\Gamma_{\\rho \\sigma \\mu} \\frac{dx^{\\rho}}{d\\tau}\\frac{dx^{\\sigma}}{d\\tau} =0$$"
   ]
  },
  {
   "cell_type": "code",
   "execution_count": 13,
   "metadata": {},
   "outputs": [
    {
     "data": {
      "image/png": "[encoded data removed]",
      "text/latex": [
       "$$\\left[\\begin{matrix}\\frac{2 M \\frac{d}{d \\tau} r{\\left (\\tau \\right )} \\frac{d}{d \\tau} t{\\left (\\tau \\right )}}{r^{2}{\\left (\\tau \\right )}} + \\left(- \\frac{2 M}{r{\\left (\\tau \\right )}} + 1\\right) \\frac{d^{2}}{d \\tau^{2}} t{\\left (\\tau \\right )}\\\\- \\frac{M \\left(\\frac{d}{d \\tau} t{\\left (\\tau \\right )}\\right)^{2}}{r^{2}{\\left (\\tau \\right )}} + \\frac{M \\left(\\frac{d}{d \\tau} r{\\left (\\tau \\right )}\\right)^{2}}{\\left(- \\frac{2 M}{r{\\left (\\tau \\right )}} + 1\\right)^{2} r^{2}{\\left (\\tau \\right )}} + r{\\left (\\tau \\right )} \\sin^{2}{\\left (\\theta{\\left (\\tau \\right )} \\right )} \\left(\\frac{d}{d \\tau} \\phi{\\left (\\tau \\right )}\\right)^{2} + r{\\left (\\tau \\right )} \\left(\\frac{d}{d \\tau} \\theta{\\left (\\tau \\right )}\\right)^{2} - \\frac{\\frac{d^{2}}{d \\tau^{2}} r{\\left (\\tau \\right )}}{- \\frac{2 M}{r{\\left (\\tau \\right )}} + 1}\\\\r^{2}{\\left (\\tau \\right )} \\sin{\\left (\\theta{\\left (\\tau \\right )} \\right )} \\cos{\\left (\\theta{\\left (\\tau \\right )} \\right )} \\left(\\frac{d}{d \\tau} \\phi{\\left (\\tau \\right )}\\right)^{2} - r^{2}{\\left (\\tau \\right )} \\frac{d^{2}}{d \\tau^{2}} \\theta{\\left (\\tau \\right )} - 2 r{\\left (\\tau \\right )} \\frac{d}{d \\tau} \\theta{\\left (\\tau \\right )} \\frac{d}{d \\tau} r{\\left (\\tau \\right )}\\\\- r^{2}{\\left (\\tau \\right )} \\sin^{2}{\\left (\\theta{\\left (\\tau \\right )} \\right )} \\frac{d^{2}}{d \\tau^{2}} \\phi{\\left (\\tau \\right )} - 2 r^{2}{\\left (\\tau \\right )} \\sin{\\left (\\theta{\\left (\\tau \\right )} \\right )} \\cos{\\left (\\theta{\\left (\\tau \\right )} \\right )} \\frac{d}{d \\tau} \\phi{\\left (\\tau \\right )} \\frac{d}{d \\tau} \\theta{\\left (\\tau \\right )} - 2 r{\\left (\\tau \\right )} \\sin^{2}{\\left (\\theta{\\left (\\tau \\right )} \\right )} \\frac{d}{d \\tau} \\phi{\\left (\\tau \\right )} \\frac{d}{d \\tau} r{\\left (\\tau \\right )}\\end{matrix}\\right]$$"
      ],
      "text/plain": [
       "⎡                                                                        d    \n",
       "⎢                                                                  2⋅M⋅─────(r\n",
       "⎢                                                                      d\\tau  \n",
       "⎢                                                                  ───────────\n",
       "⎢                                                                             \n",
       "⎢                                                                             \n",
       "⎢                                                                             \n",
       "⎢                                                                             \n",
       "⎢                                            2                        2       \n",
       "⎢                            ⎛  d           ⎞         ⎛  d           ⎞        \n",
       "⎢                          M⋅⎜─────(t(\\tau))⎟       M⋅⎜─────(r(\\tau))⎟        \n",
       "⎢                            ⎝d\\tau         ⎠         ⎝d\\tau         ⎠        \n",
       "⎢                        - ─────────────────── + ───────────────────────── + r\n",
       "⎢                                 2                             2             \n",
       "⎢                                r (\\tau)        ⎛    2⋅M      ⎞   2          \n",
       "⎢                                                ⎜- ─────── + 1⎟ ⋅r (\\tau)    \n",
       "⎢                                                ⎝  r(\\tau)    ⎠              \n",
       "⎢                                                                             \n",
       "⎢                                                                             \n",
       "⎢                            2                                           ⎛  d \n",
       "⎢                           r (\\tau)⋅sin(\\theta(\\tau))⋅cos(\\theta(\\tau))⋅⎜────\n",
       "⎢                                                                        ⎝d\\ta\n",
       "⎢                                                                             \n",
       "⎢                                                                             \n",
       "⎢                                 2                                           \n",
       "⎢   2          2                 d                     2                      \n",
       "⎢- r (\\tau)⋅sin (\\theta(\\tau))⋅──────(\\phi(\\tau)) - 2⋅r (\\tau)⋅sin(\\theta(\\tau\n",
       "⎢                                   2                                         \n",
       "⎣                              d\\tau                                          \n",
       "\n",
       "          d                                                                   \n",
       "(\\tau))⋅─────(t(\\tau))                      2                                 \n",
       "        d\\tau            ⎛    2⋅M      ⎞   d                                  \n",
       "────────────────────── + ⎜- ─────── + 1⎟⋅──────(t(\\tau))                      \n",
       "   2                     ⎝  r(\\tau)    ⎠      2                               \n",
       "  r (\\tau)                               d\\tau                                \n",
       "                                                                              \n",
       "                                                                              \n",
       "                                                                              \n",
       "                                                                              \n",
       "                                             2                                \n",
       "          2               ⎛  d              ⎞            ⎛  d                ⎞\n",
       "(\\tau)⋅sin (\\theta(\\tau))⋅⎜─────(\\phi(\\tau))⎟  + r(\\tau)⋅⎜─────(\\theta(\\tau))⎟\n",
       "                          ⎝d\\tau            ⎠            ⎝d\\tau              ⎠\n",
       "                                                                              \n",
       "                                                                              \n",
       "                                                                              \n",
       "                                                                              \n",
       "              2               2                                               \n",
       "             ⎞     2         d                                d               \n",
       "─(\\phi(\\tau))⎟  - r (\\tau)⋅──────(\\theta(\\tau)) - 2⋅r(\\tau)⋅─────(\\theta(\\tau)\n",
       "u            ⎠                  2                           d\\tau             \n",
       "                           d\\tau                                              \n",
       "                                                                              \n",
       "                                                                              \n",
       "                       d                 d                                2   \n",
       "))⋅cos(\\theta(\\tau))⋅─────(\\phi(\\tau))⋅─────(\\theta(\\tau)) - 2⋅r(\\tau)⋅sin (\\t\n",
       "                     d\\tau             d\\tau                                  \n",
       "                                                                              \n",
       "\n",
       "                                            ⎤\n",
       "                                            ⎥\n",
       "                                            ⎥\n",
       "                                            ⎥\n",
       "                                            ⎥\n",
       "                                            ⎥\n",
       "                                            ⎥\n",
       "       2                                    ⎥\n",
       "      d                                     ⎥\n",
       "    ──────(r(\\tau))                         ⎥\n",
       "2        2                                  ⎥\n",
       "    d\\tau                                   ⎥\n",
       "  - ───────────────                         ⎥\n",
       "         2⋅M                                ⎥\n",
       "     - ─────── + 1                          ⎥\n",
       "       r(\\tau)                              ⎥\n",
       "                                            ⎥\n",
       "                                            ⎥\n",
       "                                            ⎥\n",
       "    d                                       ⎥\n",
       ")⋅─────(r(\\tau))                            ⎥\n",
       "  d\\tau                                     ⎥\n",
       "                                            ⎥\n",
       "                                            ⎥\n",
       "                                            ⎥\n",
       "              d                 d           ⎥\n",
       "heta(\\tau))⋅─────(\\phi(\\tau))⋅─────(r(\\tau))⎥\n",
       "            d\\tau             d\\tau         ⎥\n",
       "                                            ⎦"
      ]
     },
     "execution_count": 13,
     "metadata": {},
     "output_type": "execute_result"
    }
   ],
   "source": [
    "tau = Symbol('\\\\tau')\n",
    "w = Geodesic('w', g, tau)\n",
    "w(All).transpose()"
   ]
  },
  {
   "cell_type": "markdown",
   "metadata": {},
   "source": [
    "Die definierte Python-Klasse '_Geodesic_' setzt die Koordinaten automatisch in einen Parametrisierungsmodus (Parametrisierung der Koordinaten nach dem affinen Parameter $\\tau$). "
   ]
  },
  {
   "cell_type": "code",
   "execution_count": 14,
   "metadata": {
    "jupyter": {
     "outputs_hidden": false
    }
   },
   "outputs": [
    {
     "data": {
      "image/png": "[encoded data removed]",
      "text/latex": [
       "$$\\left [ \\left [ x, \\quad \\tau\\right ]\\right ]$$"
      ],
      "text/plain": [
       "[[x, \\tau]]"
      ]
     },
     "execution_count": 14,
     "metadata": {},
     "output_type": "execute_result"
    }
   ],
   "source": [
    "Parametrization.info()"
   ]
  },
  {
   "cell_type": "code",
   "execution_count": 15,
   "metadata": {
    "jupyter": {
     "outputs_hidden": false
    }
   },
   "outputs": [
    {
     "data": {
      "image/png": "[encoded data removed]",
      "text/latex": [
       "$$\\left[\\begin{matrix}t{\\left (\\tau \\right )} & r{\\left (\\tau \\right )} & \\theta{\\left (\\tau \\right )} & \\phi{\\left (\\tau \\right )}\\end{matrix}\\right]$$"
      ],
      "text/plain": [
       "[t(\\tau)  r(\\tau)  \\theta(\\tau)  \\phi(\\tau)]"
      ]
     },
     "execution_count": 15,
     "metadata": {},
     "output_type": "execute_result"
    }
   ],
   "source": [
    "x(-All)"
   ]
  },
  {
   "cell_type": "markdown",
   "metadata": {},
   "source": [
    "Diese Parametrisierung kann man mit dem folgenden Befehl wieder abstellen:"
   ]
  },
  {
   "cell_type": "code",
   "execution_count": 16,
   "metadata": {},
   "outputs": [],
   "source": [
    "#Parametrization.deactivate(x)"
   ]
  },
  {
   "cell_type": "markdown",
   "metadata": {},
   "source": [
    "Wir lassen nur ebene Bewegungen zu ($\\theta=\\frac{\\pi}{2}, \\frac{d \\theta}{d\\tau}=0, \\frac{d^2 \\theta}{d\\tau^2}=0$)."
   ]
  },
  {
   "cell_type": "code",
   "execution_count": 17,
   "metadata": {
    "jupyter": {
     "outputs_hidden": false
    }
   },
   "outputs": [
    {
     "data": {
      "image/png": "[encoded data removed]",
      "text/latex": [
       "$$\\left[\\begin{matrix}\\frac{2 M \\frac{d}{d \\tau} r{\\left (\\tau \\right )} \\frac{d}{d \\tau} t{\\left (\\tau \\right )}}{r^{2}{\\left (\\tau \\right )}} + \\left(- \\frac{2 M}{r{\\left (\\tau \\right )}} + 1\\right) \\frac{d^{2}}{d \\tau^{2}} t{\\left (\\tau \\right )}\\\\- \\frac{M \\left(\\frac{d}{d \\tau} t{\\left (\\tau \\right )}\\right)^{2}}{r^{2}{\\left (\\tau \\right )}} + \\frac{M \\left(\\frac{d}{d \\tau} r{\\left (\\tau \\right )}\\right)^{2}}{\\left(- \\frac{2 M}{r{\\left (\\tau \\right )}} + 1\\right)^{2} r^{2}{\\left (\\tau \\right )}} + 1.0 r{\\left (\\tau \\right )} \\left(\\frac{d}{d \\tau} \\phi{\\left (\\tau \\right )}\\right)^{2} - \\frac{\\frac{d^{2}}{d \\tau^{2}} r{\\left (\\tau \\right )}}{- \\frac{2 M}{r{\\left (\\tau \\right )}} + 1}\\\\6.12323399573677 \\cdot 10^{-17} r^{2}{\\left (\\tau \\right )} \\left(\\frac{d}{d \\tau} \\phi{\\left (\\tau \\right )}\\right)^{2}\\\\- 1.0 r^{2}{\\left (\\tau \\right )} \\frac{d^{2}}{d \\tau^{2}} \\phi{\\left (\\tau \\right )} - 2.0 r{\\left (\\tau \\right )} \\frac{d}{d \\tau} \\phi{\\left (\\tau \\right )} \\frac{d}{d \\tau} r{\\left (\\tau \\right )}\\end{matrix}\\right]$$"
      ],
      "text/plain": [
       "⎡                       d              d                                      \n",
       "⎢                 2⋅M⋅─────(r(\\tau))⋅─────(t(\\tau))                      2    \n",
       "⎢                     d\\tau          d\\tau            ⎛    2⋅M      ⎞   d     \n",
       "⎢                 ───────────────────────────────── + ⎜- ─────── + 1⎟⋅──────(t\n",
       "⎢                               2                     ⎝  r(\\tau)    ⎠      2  \n",
       "⎢                              r (\\tau)                               d\\tau   \n",
       "⎢                                                                             \n",
       "⎢                                                                             \n",
       "⎢                    2                        2                               \n",
       "⎢    ⎛  d           ⎞         ⎛  d           ⎞                                \n",
       "⎢  M⋅⎜─────(t(\\tau))⎟       M⋅⎜─────(r(\\tau))⎟                                \n",
       "⎢    ⎝d\\tau         ⎠         ⎝d\\tau         ⎠                   ⎛  d         \n",
       "⎢- ─────────────────── + ───────────────────────── + 1.0⋅r(\\tau)⋅⎜─────(\\phi(\\\n",
       "⎢         2                             2                        ⎝d\\tau       \n",
       "⎢        r (\\tau)        ⎛    2⋅M      ⎞   2                                  \n",
       "⎢                        ⎜- ─────── + 1⎟ ⋅r (\\tau)                            \n",
       "⎢                        ⎝  r(\\tau)    ⎠                                      \n",
       "⎢                                                                             \n",
       "⎢                                                                           2 \n",
       "⎢                                                2       ⎛  d              ⎞  \n",
       "⎢                          6.12323399573677e-17⋅r (\\tau)⋅⎜─────(\\phi(\\tau))⎟  \n",
       "⎢                                                        ⎝d\\tau            ⎠  \n",
       "⎢                                                                             \n",
       "⎢                             2                                               \n",
       "⎢                  2         d                                d               \n",
       "⎢           - 1.0⋅r (\\tau)⋅──────(\\phi(\\tau)) - 2.0⋅r(\\tau)⋅─────(\\phi(\\tau))⋅\n",
       "⎢                               2                           d\\tau             \n",
       "⎣                          d\\tau                                              \n",
       "\n",
       "                         ⎤\n",
       "                         ⎥\n",
       "                         ⎥\n",
       "(\\tau))                  ⎥\n",
       "                         ⎥\n",
       "                         ⎥\n",
       "                         ⎥\n",
       "             2           ⎥\n",
       "            d            ⎥\n",
       "          ──────(r(\\tau))⎥\n",
       "      2        2         ⎥\n",
       "     ⎞    d\\tau          ⎥\n",
       "tau))⎟  - ───────────────⎥\n",
       "     ⎠         2⋅M       ⎥\n",
       "           - ─────── + 1 ⎥\n",
       "             r(\\tau)     ⎥\n",
       "                         ⎥\n",
       "                         ⎥\n",
       "                         ⎥\n",
       "                         ⎥\n",
       "                         ⎥\n",
       "                         ⎥\n",
       "                         ⎥\n",
       "                         ⎥\n",
       "  d                      ⎥\n",
       "─────(r(\\tau))           ⎥\n",
       "d\\tau                    ⎥\n",
       "                         ⎦"
      ]
     },
     "execution_count": 17,
     "metadata": {},
     "output_type": "execute_result"
    }
   ],
   "source": [
    "DGL = w(All).subs([(x(-3).diff(tau,tau),0),(x(-3).diff(tau),0),(x(-3),math.pi/2)]).transpose()\n",
    "DGL"
   ]
  },
  {
   "cell_type": "markdown",
   "metadata": {},
   "source": [
    "Zusätzlich kann man sich auf den radial in das schwarze Loch einfallenden Probekörper beschränken ($\\frac{d \\phi}{d\\tau}=0, \\frac{d^2 \\phi}{d\\tau^2}=0$)."
   ]
  },
  {
   "cell_type": "code",
   "execution_count": 18,
   "metadata": {},
   "outputs": [
    {
     "data": {
      "image/png": "[encoded data removed]",
      "text/latex": [
       "$$\\left[\\begin{matrix}\\frac{2 M \\frac{d}{d \\tau} r{\\left (\\tau \\right )} \\frac{d}{d \\tau} t{\\left (\\tau \\right )}}{r^{2}{\\left (\\tau \\right )}} + \\left(- \\frac{2 M}{r{\\left (\\tau \\right )}} + 1\\right) \\frac{d^{2}}{d \\tau^{2}} t{\\left (\\tau \\right )}\\\\- \\frac{M \\left(\\frac{d}{d \\tau} t{\\left (\\tau \\right )}\\right)^{2}}{r^{2}{\\left (\\tau \\right )}} + \\frac{M \\left(\\frac{d}{d \\tau} r{\\left (\\tau \\right )}\\right)^{2}}{\\left(- \\frac{2 M}{r{\\left (\\tau \\right )}} + 1\\right)^{2} r^{2}{\\left (\\tau \\right )}} - \\frac{\\frac{d^{2}}{d \\tau^{2}} r{\\left (\\tau \\right )}}{- \\frac{2 M}{r{\\left (\\tau \\right )}} + 1}\\\\0\\\\0\\end{matrix}\\right]$$"
      ],
      "text/plain": [
       "⎡      d              d                                             ⎤\n",
       "⎢2⋅M⋅─────(r(\\tau))⋅─────(t(\\tau))                      2           ⎥\n",
       "⎢    d\\tau          d\\tau            ⎛    2⋅M      ⎞   d            ⎥\n",
       "⎢───────────────────────────────── + ⎜- ─────── + 1⎟⋅──────(t(\\tau))⎥\n",
       "⎢              2                     ⎝  r(\\tau)    ⎠      2         ⎥\n",
       "⎢             r (\\tau)                               d\\tau          ⎥\n",
       "⎢                                                                   ⎥\n",
       "⎢                                                       2           ⎥\n",
       "⎢                    2                        2        d            ⎥\n",
       "⎢    ⎛  d           ⎞         ⎛  d           ⎞       ──────(r(\\tau))⎥\n",
       "⎢  M⋅⎜─────(t(\\tau))⎟       M⋅⎜─────(r(\\tau))⎟            2         ⎥\n",
       "⎢    ⎝d\\tau         ⎠         ⎝d\\tau         ⎠       d\\tau          ⎥\n",
       "⎢- ─────────────────── + ───────────────────────── - ───────────────⎥\n",
       "⎢         2                             2                 2⋅M       ⎥\n",
       "⎢        r (\\tau)        ⎛    2⋅M      ⎞   2          - ─────── + 1 ⎥\n",
       "⎢                        ⎜- ─────── + 1⎟ ⋅r (\\tau)      r(\\tau)     ⎥\n",
       "⎢                        ⎝  r(\\tau)    ⎠                            ⎥\n",
       "⎢                                                                   ⎥\n",
       "⎢                                 0                                 ⎥\n",
       "⎢                                                                   ⎥\n",
       "⎣                                 0                                 ⎦"
      ]
     },
     "execution_count": 18,
     "metadata": {},
     "output_type": "execute_result"
    }
   ],
   "source": [
    "DGL1 = DGL.subs([(x(-4).diff(tau,tau),0),(x(-4).diff(tau),0)])\n",
    "DGL1"
   ]
  },
  {
   "cell_type": "markdown",
   "metadata": {},
   "source": [
    "Dieses System von Differentialgleichungen ist zweiter Ordnung in der Eigenzeit $\\tau$ muss nun gelösst werden. Zunächst eine kurze Zusammenfassung: Lösen von Differentialgleichungen in Python"
   ]
  },
  {
   "cell_type": "markdown",
   "metadata": {},
   "source": [
    "#### Lösen von Differentialgleichungen in Python\n",
    "\n",
    "In Python kann man Differentialgleichungen z.B. mit dem Befehl dsolve lösen (falls eine analytische Lösung existiert). Hier ein einfaches Beispiel:"
   ]
  },
  {
   "cell_type": "code",
   "execution_count": 19,
   "metadata": {},
   "outputs": [
    {
     "data": {
      "image/png": "[encoded data removed]",
      "text/latex": [
       "$$\\frac{d^{2}}{d \\tau^{2}} t{\\left (\\tau \\right )} = - 3 t{\\left (\\tau \\right )}$$"
      ],
      "text/plain": [
       "   2                        \n",
       "  d                         \n",
       "──────(t(\\tau)) = -3⋅t(\\tau)\n",
       "     2                      \n",
       "d\\tau                       "
      ]
     },
     "execution_count": 19,
     "metadata": {},
     "output_type": "execute_result"
    }
   ],
   "source": [
    "BeispielDGL1=sym.Eq(x(-1).diff(tau,tau), -3*x(-1))\n",
    "BeispielDGL1"
   ]
  },
  {
   "cell_type": "markdown",
   "metadata": {},
   "source": [
    " Lösung ohne Anfangsbedingungen:"
   ]
  },
  {
   "cell_type": "code",
   "execution_count": 20,
   "metadata": {},
   "outputs": [
    {
     "data": {
      "image/png": "[encoded data removed]",
      "text/latex": [
       "$$t{\\left (\\tau \\right )} = C_{1} \\sin{\\left (\\sqrt{3} \\tau \\right )} + C_{2} \\cos{\\left (\\sqrt{3} \\tau \\right )}$$"
      ],
      "text/plain": [
       "t(\\tau) = C₁⋅sin(√3⋅\\tau) + C₂⋅cos(√3⋅\\tau)"
      ]
     },
     "execution_count": 20,
     "metadata": {},
     "output_type": "execute_result"
    }
   ],
   "source": [
    "sym.dsolve(BeispielDGL1)"
   ]
  },
  {
   "cell_type": "markdown",
   "metadata": {},
   "source": [
    "Lösung mit Anfangsbedingungen:"
   ]
  },
  {
   "cell_type": "code",
   "execution_count": 21,
   "metadata": {},
   "outputs": [
    {
     "data": {
      "image/png": "[encoded data removed]",
      "text/latex": [
       "$$t{\\left (\\tau \\right )} = \\frac{2 \\sqrt{3} \\sin{\\left (\\sqrt{3} \\tau \\right )}}{3} + 3 \\cos{\\left (\\sqrt{3} \\tau \\right )}$$"
      ],
      "text/plain": [
       "          2⋅√3⋅sin(√3⋅\\tau)                 \n",
       "t(\\tau) = ───────────────── + 3⋅cos(√3⋅\\tau)\n",
       "                  3                         "
      ]
     },
     "execution_count": 21,
     "metadata": {},
     "output_type": "execute_result"
    }
   ],
   "source": [
    "LoesAnalytic = sym.dsolve(BeispielDGL1,x(-1),ics={x(-1).subs(tau,0):3,x(-1).diff(tau).subs(tau, 0): 2})\n",
    "LoesAnalytic"
   ]
  },
  {
   "cell_type": "markdown",
   "metadata": {},
   "source": [
    "Diese Lösung kann man sich z.B. wie folgt darstellen:"
   ]
  },
  {
   "cell_type": "code",
   "execution_count": 22,
   "metadata": {},
   "outputs": [
    {
     "data": {
      "text/plain": [
       "[<matplotlib.lines.Line2D at 0x7f67f8a5f518>]"
      ]
     },
     "execution_count": 22,
     "metadata": {},
     "output_type": "execute_result"
    }
   ],
   "source": [
    "import matplotlib.pyplot as plt \n",
    "import matplotlib\n",
    "\n",
    "tauvals = np.linspace(0, 10, 1000)\n",
    "func = sym.lambdify(tau, LoesAnalytic.rhs)\n",
    "plt.plot(tauvals,func(tauvals),color='blue', linewidth=1, linestyle='-')"
   ]
  },
  {
   "cell_type": "markdown",
   "metadata": {},
   "source": [
    "Manchmal existiert keine analytische Lösung für die vorliegende Differentialgleichungen. In Python kann man Differentialgleichungen z.B. mit dem Befehl \"solve_ivp\" lösen. Wir demonstrieren die Vorgehensweise zunächst an dem folgenden Beispiel eines Systems von Differntialgleichungen, welches eine Kreisbahn beschreibt:\n",
    "\n",
    "$$  \\frac{d}{dt}\\vec{r} =\n",
    "\\left(\n",
    "\\begin{array}[c]{c}\n",
    "\\frac{dy_0(t)}{dt}\\\\\n",
    "\\frac{dy_1(t)}{dt}\n",
    "\\end{array}\n",
    "\\right)\n",
    "=\n",
    "\\left(\n",
    "\\begin{array}[c]{c}\n",
    "{\\rm cos}(y_1(t))\\\\\n",
    "{\\rm sin}(y_0(t))\n",
    "\\end{array}\n",
    "\\right)\n",
    "$$"
   ]
  },
  {
   "cell_type": "markdown",
   "metadata": {},
   "source": [
    "Zunächst importieren wir scipy, definieren unser Systems von Differntialgleichungen und lösen dieses dann mit den Anfangswerten $\\vec{r}(t=0)=[y_1(t=0)=0, y_2(t=0)=1]$ im Bereich $t \\in [0,6]$ mit 100 Punkten:"
   ]
  },
  {
   "cell_type": "code",
   "execution_count": 23,
   "metadata": {},
   "outputs": [],
   "source": [
    "from scipy.integrate import solve_ivp"
   ]
  },
  {
   "cell_type": "code",
   "execution_count": 30,
   "metadata": {},
   "outputs": [],
   "source": [
    "tspan=np.linspace(0,6,100)\n",
    "def f(t, r):\n",
    "    y0, y1 = r\n",
    "    dy0dt = np.cos(y1)\n",
    "    dy1dt = np.sin(y0)\n",
    "    return dy0dt, dy1dt\n",
    "sol = solve_ivp(f, (0,6), (0,1), t_eval=tspan)"
   ]
  },
  {
   "cell_type": "markdown",
   "metadata": {},
   "source": [
    "Die Lösung können wir uns grafisch als zeitliche Funktionen von $y_0$ und $y_1$ darstellen"
   ]
  },
  {
   "cell_type": "code",
   "execution_count": 27,
   "metadata": {},
   "outputs": [
    {
     "data": {
      "image/png": "[encoded data removed]",
      "text/plain": [
       "<Figure size 432x288 with 1 Axes>"
      ]
     },
     "metadata": {
      "needs_background": "light"
     },
     "output_type": "display_data"
    }
   ],
   "source": [
    "plt.clf()\n",
    "fig, ax = plt.subplots(num=1)\n",
    "ax.plot(tspan, sol.y[0], '-', label='y0(t)')\n",
    "ax.plot(tspan, sol.y[1], ':', label='y1(t)')\n",
    "ax.legend(loc='best')\n",
    "plt.show()"
   ]
  },
  {
   "cell_type": "markdown",
   "metadata": {},
   "source": [
    "... oder als Raumkurve $\\vec{r}(t)$ in einem $y_0$-$y_1$ Diagram darstellen:"
   ]
  },
  {
   "cell_type": "code",
   "execution_count": 25,
   "metadata": {},
   "outputs": [
    {
     "data": {
      "image/png": "[encoded data removed]",
      "text/plain": [
       "<Figure size 432x288 with 1 Axes>"
      ]
     },
     "metadata": {
      "needs_background": "light"
     },
     "output_type": "display_data"
    }
   ],
   "source": [
    "plt.clf()\n",
    "fig, ax = plt.subplots(num=1)\n",
    "ax.plot(sol.y[0], sol.y[1], '-', label='y2(y1)')\n",
    "ax.legend(loc='center')\n",
    "plt.axis(\"scaled\")\n",
    "plt.show()"
   ]
  },
  {
   "cell_type": "markdown",
   "metadata": {},
   "source": [
    "#### Lösen der Geodätengleichung in Python\n",
    "\n",
    "Um das der Geodätengleichung zugrundeliegende System von Differentialgleichungen zweiter Ordnung in Python zu lösen, muss man es zunächst in ein System erster Ordnung umschreiben und es dann dannach mit solve_ivp lösen -> Hausaufgabe!"
   ]
  }
 ],
 "metadata": {
  "kernelspec": {
   "display_name": "Python 3",
   "language": "python",
   "name": "python3"
  },
  "language_info": {
   "codemirror_mode": {
    "name": "ipython",
    "version": 3
   },
   "file_extension": ".py",
   "mimetype": "text/x-python",
   "name": "python",
   "nbconvert_exporter": "python",
   "pygments_lexer": "ipython3",
   "version": "3.7.1"
  }
 },
 "nbformat": 4,
 "nbformat_minor": 4
}
